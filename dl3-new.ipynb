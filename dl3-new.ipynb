{
 "cells": [
  {
   "cell_type": "markdown",
   "metadata": {},
   "source": [
    "## MULTI-LABEL IMAGE CLASSIFICATION WITH KERAS"
   ]
  },
  {
   "cell_type": "markdown",
   "metadata": {},
   "source": [
    "### LOADING LIBRARIES"
   ]
  },
  {
   "cell_type": "code",
   "execution_count": null,
   "metadata": {
    "scrolled": true
   },
   "outputs": [],
   "source": [
    "!pip install pillow\n",
    "!pip install sklearn"
   ]
  },
  {
   "cell_type": "code",
   "execution_count": null,
   "metadata": {
    "ExecuteTime": {
     "end_time": "2018-04-23T19:46:09.909799Z",
     "start_time": "2018-04-23T19:46:09.156371Z"
    },
    "scrolled": false
   },
   "outputs": [],
   "source": [
    "\n",
    "import PIL\n",
    "import PIL.Image\n",
    "from sklearn.utils import shuffle\n",
    "import pandas as pd"
   ]
  },
  {
   "cell_type": "code",
   "execution_count": null,
   "metadata": {},
   "outputs": [],
   "source": [
    "from keras import applications\n",
    "from keras.preprocessing.image import ImageDataGenerator\n",
    "from keras import optimizers\n",
    "from keras.models import Sequential, Model \n",
    "from keras.layers import Dropout, Flatten, Dense, GlobalAveragePooling2D\n",
    "from keras import backend as K\n",
    "from keras.callbacks import ModelCheckpoint, LearningRateScheduler, TensorBoard, EarlyStopping\n",
    "from keras.preprocessing import image\n",
    "from keras.utils.np_utils import to_categorical\n",
    "import numpy as np\n",
    "#from sklearn.preprocessing import LabelEncoder\n",
    "from keras.optimizers import Adam\n",
    "from keras.layers import Input, Dense, Convolution2D, MaxPooling2D, AveragePooling2D, ZeroPadding2D, Dropout, Flatten, merge, Reshape, Activation"
   ]
  },
  {
   "cell_type": "code",
   "execution_count": 5,
   "metadata": {},
   "outputs": [],
   "source": [
    "\n",
    "import glob,matplotlib as plt\n",
    "%matplotlib inline"
   ]
  },
  {
   "cell_type": "code",
   "execution_count": null,
   "metadata": {},
   "outputs": [],
   "source": [
    "#from keras.applications.vgg16 import VGG16, preprocess_input,decode_predictions"
   ]
  },
  {
   "cell_type": "code",
   "execution_count": 6,
   "metadata": {},
   "outputs": [],
   "source": [
    "from keras.applications.xception import Xception,preprocess_input, decode_predictions"
   ]
  },
  {
   "cell_type": "markdown",
   "metadata": {},
   "source": [
    "### LOADING DATA"
   ]
  },
  {
   "cell_type": "code",
   "execution_count": 7,
   "metadata": {},
   "outputs": [],
   "source": [
    "train=pd.read_csv('./meta-data/train.csv')\n",
    "test=pd.read_csv('./meta-data/test.csv')\n"
   ]
  },
  {
   "cell_type": "code",
   "execution_count": 8,
   "metadata": {},
   "outputs": [],
   "source": [
    "img_width, img_height = 224, 224"
   ]
  },
  {
   "cell_type": "code",
   "execution_count": 9,
   "metadata": {},
   "outputs": [
    {
     "data": {
      "text/plain": [
       "((12600, 86), (5400, 1))"
      ]
     },
     "execution_count": 9,
     "metadata": {},
     "output_type": "execute_result"
    }
   ],
   "source": [
    "train.shape,test.shape"
   ]
  },
  {
   "cell_type": "code",
   "execution_count": 10,
   "metadata": {},
   "outputs": [],
   "source": [
    "\n",
    "import cv2\n",
    "def read_image(img_path,H,W):\n",
    "    img = cv2.imread(img_path, cv2.IMREAD_COLOR)\n",
    "    #img = cv2.cvtColor(img, cv2.COLOR_BGR2RGB)\n",
    "    img = cv2.resize(img, (W,H)) # you can resize to  (128,128) or (256,256)\n",
    "    return img\n"
   ]
  },
  {
   "cell_type": "code",
   "execution_count": 11,
   "metadata": {},
   "outputs": [],
   "source": [
    "def save_model(model_final,filename):\n",
    "    # serialize model to JSON\n",
    "    from keras.models import model_from_json\n",
    "    model_json = model_final.to_json()\n",
    "    with open(filename+\".json\", \"w\") as json_file:\n",
    "        json_file.write(model_json)\n",
    "    # serialize weights to HDF5\n",
    "    model_final.save_weights(filename+\".h5\")\n",
    "    print(\"Saved model to disk\")\n",
    "    \n",
    "from keras.models import model_from_json\n",
    "# load json and create model\n",
    "def load_model(filename):\n",
    "    json_file = open(filename+'.json', 'r')\n",
    "    loaded_model_json = json_file.read()\n",
    "    json_file.close()\n",
    "    model_final = model_from_json(loaded_model_json)\n",
    "    # load weights into new model\n",
    "    model_final.load_weights(filename+\".h5\")\n",
    "    print(\"Loaded model from disk\")\n",
    "    return model_final"
   ]
  },
  {
   "cell_type": "code",
   "execution_count": 12,
   "metadata": {},
   "outputs": [
    {
     "data": {
      "text/plain": [
       "15"
      ]
     },
     "execution_count": 12,
     "metadata": {},
     "output_type": "execute_result"
    }
   ],
   "source": [
    "import gc\n",
    "gc.collect()"
   ]
  },
  {
   "cell_type": "code",
   "execution_count": 13,
   "metadata": {},
   "outputs": [
    {
     "name": "stdout",
     "output_type": "stream",
     "text": [
      "CPU times: user 3min 32s, sys: 3.86 s, total: 3min 36s\n",
      "Wall time: 3min 36s\n"
     ]
    }
   ],
   "source": [
    "%%time\n",
    "image_lr=[]\n",
    "train_img=[]\n",
    "for i in list(train.Image_name):\n",
    "    image_lr.append(read_image('./train_img/'+str(i),img_width, img_height))\n",
    "train_img=np.array(image_lr,dtype=np.float32)\n",
    "train_img=preprocess_input(train_img)"
   ]
  },
  {
   "cell_type": "code",
   "execution_count": 14,
   "metadata": {},
   "outputs": [
    {
     "data": {
      "text/plain": [
       "(12600, 224, 224, 3)"
      ]
     },
     "execution_count": 14,
     "metadata": {},
     "output_type": "execute_result"
    }
   ],
   "source": [
    "train_img.shape#,test_img.shape"
   ]
  },
  {
   "cell_type": "code",
   "execution_count": 15,
   "metadata": {},
   "outputs": [
    {
     "data": {
      "text/plain": [
       "0"
      ]
     },
     "execution_count": 15,
     "metadata": {},
     "output_type": "execute_result"
    }
   ],
   "source": [
    "\n",
    "# Initiate the train and test generators with data Augumentation \n",
    "train_datagen = ImageDataGenerator(\n",
    "#rescale = 1./255,   \n",
    "horizontal_flip = True,\n",
    "zoom_range = 0.2,\n",
    "fill_mode=\"nearest\" ,   \n",
    "width_shift_range = 0.3,\n",
    "height_shift_range=0.3,\n",
    "rotation_range=20)\n",
    "\n",
    "'''\n",
    "test_datagen = ImageDataGenerator(\n",
    "#rescale = 1./255,\n",
    "horizontal_flip = True,\n",
    "zoom_range = 0.2,\n",
    "width_shift_range = 0.2,\n",
    "height_shift_range=0.2,\n",
    "rotation_range=20)\n",
    "'''\n",
    "gc.collect()\n"
   ]
  },
  {
   "cell_type": "code",
   "execution_count": 16,
   "metadata": {},
   "outputs": [
    {
     "data": {
      "text/plain": [
       "(12600, 85)"
      ]
     },
     "execution_count": 16,
     "metadata": {},
     "output_type": "execute_result"
    }
   ],
   "source": [
    "Y=train.iloc[:,1:]\n",
    "Y.shape"
   ]
  },
  {
   "cell_type": "code",
   "execution_count": null,
   "metadata": {},
   "outputs": [],
   "source": [
    "'''\n",
    "l=int(train.shape[0]-(0.1*train.shape[0]))\n",
    "l\n",
    "x_train=train_img[:l,:,:,:]\n",
    "y_train=Y[:l]\n",
    "x_valid=train_img[l:,:,:,:]\n",
    "y_valid=Y[l:]\n",
    "x_train.shape,y_train.shape,x_valid.shape,y_valid.shape\n",
    "'''"
   ]
  },
  {
   "cell_type": "code",
   "execution_count": 17,
   "metadata": {},
   "outputs": [],
   "source": [
    "batch_size=256"
   ]
  },
  {
   "cell_type": "code",
   "execution_count": 18,
   "metadata": {},
   "outputs": [
    {
     "data": {
      "text/plain": [
       "'\\nvalidation_generator = test_datagen.flow(x_valid,y_valid,\\n                                         batch_size = batch_size,\\n                                        shuffle=True)\\n                                        #class_mode = \"categorical\")\\n\\n'"
      ]
     },
     "execution_count": 18,
     "metadata": {},
     "output_type": "execute_result"
    }
   ],
   "source": [
    "\n",
    "\n",
    "train_generator = train_datagen.flow(train_img,Y,\n",
    "                                    batch_size = batch_size,\n",
    "                                    shuffle=True)\n",
    "                                    #class_mode = \"categorical\")\n",
    "    \n",
    "'''\n",
    "validation_generator = test_datagen.flow(x_valid,y_valid,\n",
    "                                         batch_size = batch_size,\n",
    "                                        shuffle=True)\n",
    "                                        #class_mode = \"categorical\")\n",
    "\n",
    "'''"
   ]
  },
  {
   "cell_type": "code",
   "execution_count": 19,
   "metadata": {},
   "outputs": [],
   "source": [
    "model = applications.Xception(weights = \"imagenet\", include_top=False, input_shape = (img_width, img_height, 3))"
   ]
  },
  {
   "cell_type": "code",
   "execution_count": 20,
   "metadata": {},
   "outputs": [],
   "source": [
    "# Freeze the layers which you don't want to train. Here I am freezing the first 5 layers.\n",
    "for layer in model.layers:\n",
    "    layer.trainable = False"
   ]
  },
  {
   "cell_type": "code",
   "execution_count": 21,
   "metadata": {},
   "outputs": [
    {
     "name": "stderr",
     "output_type": "stream",
     "text": [
      "/home/ubuntu/anaconda3/envs/tensorflow_p36/lib/python3.6/site-packages/ipykernel_launcher.py:12: UserWarning: Update your `Model` call to the Keras 2 API: `Model(inputs=Tensor(\"in..., outputs=Tensor(\"de...)`\n",
      "  if sys.path[0] == '':\n"
     ]
    }
   ],
   "source": [
    "\n",
    "\n",
    "#Adding custom Layers \n",
    "x = model.output\n",
    "x = GlobalAveragePooling2D()(x)\n",
    "x = Dense(512, activation=\"relu\")(x)\n",
    "x = Dropout(0.2)(x)\n",
    "x = Dense(128, activation=\"relu\")(x)\n",
    "predictions = Dense(85, activation=\"sigmoid\")(x)\n",
    "\n",
    "# creating the final model \n",
    "model_final = Model(input = model.input, output = predictions)\n"
   ]
  },
  {
   "cell_type": "code",
   "execution_count": 22,
   "metadata": {},
   "outputs": [],
   "source": [
    "def fbeta(y_true, y_pred, threshold_shift=0):\n",
    "    beta = 1\n",
    "\n",
    "    # just in case of hipster activation at the final layer\n",
    "    y_pred = K.clip(y_pred, 0, 1)\n",
    "\n",
    "    # shifting the prediction threshold from .5 if needed\n",
    "    y_pred_bin = K.round(y_pred + threshold_shift)\n",
    "\n",
    "    tp = K.sum(K.round(y_true * y_pred_bin)) + K.epsilon()\n",
    "    fp = K.sum(K.round(K.clip(y_pred_bin - y_true, 0, 1)))\n",
    "    fn = K.sum(K.round(K.clip(y_true - y_pred, 0, 1)))\n",
    "\n",
    "    precision = tp / (tp + fp)\n",
    "    recall = tp / (tp + fn)\n",
    "\n",
    "    beta_squared = beta ** 2\n",
    "    return (beta_squared + 1) * (precision * recall) / (beta_squared * precision + recall + K.epsilon())"
   ]
  },
  {
   "cell_type": "code",
   "execution_count": 23,
   "metadata": {},
   "outputs": [],
   "source": [
    "adam = Adam(lr=1e-2)\n",
    "model_final.compile(optimizer=adam, loss='binary_crossentropy', metrics=[fbeta])"
   ]
  },
  {
   "cell_type": "code",
   "execution_count": 24,
   "metadata": {},
   "outputs": [
    {
     "name": "stdout",
     "output_type": "stream",
     "text": [
      "Epoch 1/2\n",
      "49/49 [==============================] - 148s 3s/step - loss: 0.4202 - fbeta: 0.7212\n",
      "Epoch 2/2\n",
      "49/49 [==============================] - 144s 3s/step - loss: 0.2510 - fbeta: 0.8482\n"
     ]
    },
    {
     "data": {
      "text/plain": [
       "<keras.callbacks.History at 0x7f58022c4588>"
      ]
     },
     "execution_count": 24,
     "metadata": {},
     "output_type": "execute_result"
    }
   ],
   "source": [
    "#validation_data=validation_generator, validation_steps=x_valid.shape[0]//batch_size, \n",
    "model_final.fit_generator( train_generator, steps_per_epoch=train_img.shape[0]//batch_size, epochs=2,\n",
    "                          shuffle=True)"
   ]
  },
  {
   "cell_type": "code",
   "execution_count": 25,
   "metadata": {},
   "outputs": [
    {
     "name": "stdout",
     "output_type": "stream",
     "text": [
      "Epoch 1/2\n",
      "49/49 [==============================] - 146s 3s/step - loss: 0.2142 - fbeta: 0.8713\n",
      "Epoch 2/2\n",
      "49/49 [==============================] - 144s 3s/step - loss: 0.1978 - fbeta: 0.8839\n"
     ]
    },
    {
     "data": {
      "text/plain": [
       "<keras.callbacks.History at 0x7f5802403630>"
      ]
     },
     "execution_count": 25,
     "metadata": {},
     "output_type": "execute_result"
    }
   ],
   "source": [
    "# Train the model \n",
    "K.set_value(adam.lr, 0.01)\n",
    "model_final.fit_generator( train_generator, steps_per_epoch=train_img.shape[0]//batch_size, epochs=2,\n",
    "                          shuffle=True)\n",
    "#model_final.fit(train_img, Y,batch_size=256,epochs=3,shuffle=True,verbose=1)"
   ]
  },
  {
   "cell_type": "code",
   "execution_count": 26,
   "metadata": {},
   "outputs": [
    {
     "name": "stdout",
     "output_type": "stream",
     "text": [
      "Epoch 1/4\n",
      "49/49 [==============================] - 146s 3s/step - loss: 0.1837 - fbeta: 0.8942\n",
      "Epoch 2/4\n",
      "49/49 [==============================] - 144s 3s/step - loss: 0.1762 - fbeta: 0.8987\n",
      "Epoch 3/4\n",
      "49/49 [==============================] - 143s 3s/step - loss: 0.1705 - fbeta: 0.9017\n",
      "Epoch 4/4\n",
      "49/49 [==============================] - 144s 3s/step - loss: 0.1686 - fbeta: 0.9028\n"
     ]
    },
    {
     "data": {
      "text/plain": [
       "<keras.callbacks.History at 0x7f58024034a8>"
      ]
     },
     "execution_count": 26,
     "metadata": {},
     "output_type": "execute_result"
    }
   ],
   "source": [
    "# Train the model \n",
    "K.set_value(adam.lr, 0.001)\n",
    "model_final.fit_generator( train_generator, steps_per_epoch=train_img.shape[0]//batch_size, epochs=4,\n",
    "                          shuffle=True)\n",
    "#model_final.fit(train_img, Y,batch_size=256,epochs=3,shuffle=True,verbose=1)"
   ]
  },
  {
   "cell_type": "code",
   "execution_count": 34,
   "metadata": {},
   "outputs": [
    {
     "name": "stdout",
     "output_type": "stream",
     "text": [
      "Epoch 1/2\n",
      "49/49 [==============================] - 146s 3s/step - loss: 0.1684 - fbeta: 0.9033\n",
      "Epoch 2/2\n",
      "49/49 [==============================] - 144s 3s/step - loss: 0.1637 - fbeta: 0.9061\n"
     ]
    },
    {
     "data": {
      "text/plain": [
       "<keras.callbacks.History at 0x7f57d3377ac8>"
      ]
     },
     "execution_count": 34,
     "metadata": {},
     "output_type": "execute_result"
    }
   ],
   "source": [
    "# Train the model \n",
    "K.set_value(adam.lr, 0.0001)\n",
    "model_final.fit_generator( train_generator, steps_per_epoch=train_img.shape[0]//batch_size, epochs=2,\n",
    "                          shuffle=True)"
   ]
  },
  {
   "cell_type": "code",
   "execution_count": 35,
   "metadata": {},
   "outputs": [],
   "source": [
    "# Freeze the layers which you don't want to train. Here I am freezing the first 5 layers.\n",
    "for layer in model_final.layers[:100]:\n",
    "    layer.trainable = False\n",
    "for layer in model_final.layers[100:]:\n",
    "    layer.trainable = True"
   ]
  },
  {
   "cell_type": "code",
   "execution_count": 36,
   "metadata": {},
   "outputs": [
    {
     "name": "stdout",
     "output_type": "stream",
     "text": [
      "Epoch 1/4\n",
      "49/49 [==============================] - 192s 4s/step - loss: 0.1553 - fbeta: 0.9116\n",
      "Epoch 2/4\n",
      "49/49 [==============================] - 182s 4s/step - loss: 0.1348 - fbeta: 0.9234\n",
      "Epoch 3/4\n",
      "49/49 [==============================] - 182s 4s/step - loss: 0.1234 - fbeta: 0.9298\n",
      "Epoch 4/4\n",
      "49/49 [==============================] - 182s 4s/step - loss: 0.1171 - fbeta: 0.9334\n"
     ]
    },
    {
     "data": {
      "text/plain": [
       "<keras.callbacks.History at 0x7f57d156ca20>"
      ]
     },
     "execution_count": 36,
     "metadata": {},
     "output_type": "execute_result"
    }
   ],
   "source": [
    "adam = Adam(lr=1e-4)\n",
    "model_final.compile(optimizer=adam, loss='binary_crossentropy', metrics=[fbeta])\n",
    "model_final.fit_generator( train_generator, steps_per_epoch=train_img.shape[0]//batch_size, epochs=4,\n",
    "                          shuffle=True)"
   ]
  },
  {
   "cell_type": "code",
   "execution_count": 38,
   "metadata": {},
   "outputs": [
    {
     "name": "stdout",
     "output_type": "stream",
     "text": [
      "Epoch 1/3\n",
      "49/49 [==============================] - 185s 4s/step - loss: 0.1364 - fbeta: 0.9242\n",
      "Epoch 2/3\n",
      "49/49 [==============================] - 181s 4s/step - loss: 0.1171 - fbeta: 0.9353\n",
      "Epoch 3/3\n",
      "49/49 [==============================] - 182s 4s/step - loss: 0.0951 - fbeta: 0.9488\n"
     ]
    },
    {
     "data": {
      "text/plain": [
       "<keras.callbacks.History at 0x7f57d0894ac8>"
      ]
     },
     "execution_count": 38,
     "metadata": {},
     "output_type": "execute_result"
    }
   ],
   "source": [
    "K.set_value(adam.lr, 0.001)\n",
    "model_final.fit_generator( train_generator, steps_per_epoch=train_img.shape[0]//batch_size, epochs=3,\n",
    "                          shuffle=True)"
   ]
  },
  {
   "cell_type": "code",
   "execution_count": 39,
   "metadata": {},
   "outputs": [
    {
     "name": "stdout",
     "output_type": "stream",
     "text": [
      "Epoch 1/3\n",
      "49/49 [==============================] - 185s 4s/step - loss: 0.0846 - fbeta: 0.9553\n",
      "Epoch 2/3\n",
      "49/49 [==============================] - 182s 4s/step - loss: 0.0736 - fbeta: 0.9612\n",
      "Epoch 3/3\n",
      "49/49 [==============================] - 182s 4s/step - loss: 0.0710 - fbeta: 0.9626\n"
     ]
    },
    {
     "data": {
      "text/plain": [
       "<keras.callbacks.History at 0x7f57d0894780>"
      ]
     },
     "execution_count": 39,
     "metadata": {},
     "output_type": "execute_result"
    }
   ],
   "source": [
    "K.set_value(adam.lr, 0.001)\n",
    "model_final.fit_generator( train_generator, steps_per_epoch=train_img.shape[0]//batch_size, epochs=3,\n",
    "                          shuffle=True)"
   ]
  },
  {
   "cell_type": "code",
   "execution_count": 41,
   "metadata": {},
   "outputs": [
    {
     "name": "stdout",
     "output_type": "stream",
     "text": [
      "Epoch 1/2\n",
      "49/49 [==============================] - 188s 4s/step - loss: 0.0623 - fbeta: 0.9680\n",
      "Epoch 2/2\n",
      "49/49 [==============================] - 182s 4s/step - loss: 0.0588 - fbeta: 0.9700\n"
     ]
    },
    {
     "data": {
      "text/plain": [
       "<keras.callbacks.History at 0x7f57d0894b70>"
      ]
     },
     "execution_count": 41,
     "metadata": {},
     "output_type": "execute_result"
    }
   ],
   "source": [
    "K.set_value(adam.lr, 0.001)\n",
    "model_final.fit_generator( train_generator, steps_per_epoch=train_img.shape[0]//batch_size, epochs=2,\n",
    "                          shuffle=True)"
   ]
  },
  {
   "cell_type": "code",
   "execution_count": 43,
   "metadata": {},
   "outputs": [
    {
     "name": "stdout",
     "output_type": "stream",
     "text": [
      "Epoch 1/2\n",
      "49/49 [==============================] - 182s 4s/step - loss: 0.0575 - fbeta: 0.9712\n",
      "Epoch 2/2\n",
      "49/49 [==============================] - 175s 4s/step - loss: 0.0521 - fbeta: 0.9743\n"
     ]
    },
    {
     "data": {
      "text/plain": [
       "<keras.callbacks.History at 0x7f57d08e3e48>"
      ]
     },
     "execution_count": 43,
     "metadata": {},
     "output_type": "execute_result"
    }
   ],
   "source": [
    "K.set_value(adam.lr, 0.001)\n",
    "model_final.fit_generator( train_generator, steps_per_epoch=train_img.shape[0]//batch_size, epochs=2,\n",
    "                          shuffle=True)"
   ]
  },
  {
   "cell_type": "code",
   "execution_count": 44,
   "metadata": {},
   "outputs": [
    {
     "name": "stdout",
     "output_type": "stream",
     "text": [
      "Epoch 1/2\n",
      "49/49 [==============================] - 178s 4s/step - loss: 0.0515 - fbeta: 0.9750\n",
      "Epoch 2/2\n",
      "49/49 [==============================] - 177s 4s/step - loss: 0.0464 - fbeta: 0.9777\n"
     ]
    },
    {
     "data": {
      "text/plain": [
       "<keras.callbacks.History at 0x7f57d08e3ac8>"
      ]
     },
     "execution_count": 44,
     "metadata": {},
     "output_type": "execute_result"
    }
   ],
   "source": [
    "K.set_value(adam.lr, 0.001)\n",
    "model_final.fit_generator( train_generator, steps_per_epoch=train_img.shape[0]//batch_size, epochs=2,\n",
    "                          shuffle=True)"
   ]
  },
  {
   "cell_type": "code",
   "execution_count": 47,
   "metadata": {},
   "outputs": [
    {
     "name": "stdout",
     "output_type": "stream",
     "text": [
      "Epoch 1/2\n",
      "49/49 [==============================] - 178s 4s/step - loss: 0.0341 - fbeta: 0.9835\n",
      "Epoch 2/2\n",
      "49/49 [==============================] - 177s 4s/step - loss: 0.0311 - fbeta: 0.9846\n"
     ]
    },
    {
     "data": {
      "text/plain": [
       "<keras.callbacks.History at 0x7f57d08eeb38>"
      ]
     },
     "execution_count": 47,
     "metadata": {},
     "output_type": "execute_result"
    }
   ],
   "source": [
    "K.set_value(adam.lr, 0.0001)\n",
    "model_final.fit_generator( train_generator, steps_per_epoch=train_img.shape[0]//batch_size, epochs=2,\n",
    "                          shuffle=True)"
   ]
  },
  {
   "cell_type": "code",
   "execution_count": 48,
   "metadata": {},
   "outputs": [
    {
     "name": "stdout",
     "output_type": "stream",
     "text": [
      "Epoch 1/2\n",
      "49/49 [==============================] - 180s 4s/step - loss: 0.0274 - fbeta: 0.9865\n",
      "Epoch 2/2\n",
      "49/49 [==============================] - 177s 4s/step - loss: 0.0264 - fbeta: 0.9869\n"
     ]
    },
    {
     "data": {
      "text/plain": [
       "<keras.callbacks.History at 0x7f57d08ee710>"
      ]
     },
     "execution_count": 48,
     "metadata": {},
     "output_type": "execute_result"
    }
   ],
   "source": [
    "K.set_value(adam.lr, 0.0001)\n",
    "model_final.fit_generator( train_generator, steps_per_epoch=train_img.shape[0]//batch_size, epochs=2,\n",
    "                          shuffle=True)"
   ]
  },
  {
   "cell_type": "code",
   "execution_count": 50,
   "metadata": {},
   "outputs": [
    {
     "name": "stdout",
     "output_type": "stream",
     "text": [
      "Epoch 1/2\n",
      "49/49 [==============================] - 179s 4s/step - loss: 0.0236 - fbeta: 0.9886\n",
      "Epoch 2/2\n",
      "49/49 [==============================] - 177s 4s/step - loss: 0.0242 - fbeta: 0.9882\n"
     ]
    },
    {
     "data": {
      "text/plain": [
       "<keras.callbacks.History at 0x7f57d08f8ba8>"
      ]
     },
     "execution_count": 50,
     "metadata": {},
     "output_type": "execute_result"
    }
   ],
   "source": [
    "K.set_value(adam.lr, 0.0001)\n",
    "model_final.fit_generator( train_generator, steps_per_epoch=train_img.shape[0]//batch_size, epochs=2,\n",
    "                          shuffle=True)"
   ]
  },
  {
   "cell_type": "code",
   "execution_count": 52,
   "metadata": {},
   "outputs": [
    {
     "name": "stdout",
     "output_type": "stream",
     "text": [
      "Epoch 1/2\n",
      "49/49 [==============================] - 179s 4s/step - loss: 0.0222 - fbeta: 0.9896\n",
      "Epoch 2/2\n",
      "49/49 [==============================] - 176s 4s/step - loss: 0.0214 - fbeta: 0.9895\n"
     ]
    },
    {
     "data": {
      "text/plain": [
       "<keras.callbacks.History at 0x7f57d08d0c18>"
      ]
     },
     "execution_count": 52,
     "metadata": {},
     "output_type": "execute_result"
    }
   ],
   "source": [
    "K.set_value(adam.lr, 0.00001)\n",
    "model_final.fit_generator( train_generator, steps_per_epoch=train_img.shape[0]//batch_size, epochs=2,\n",
    "                          shuffle=True)"
   ]
  },
  {
   "cell_type": "code",
   "execution_count": 53,
   "metadata": {},
   "outputs": [
    {
     "name": "stdout",
     "output_type": "stream",
     "text": [
      "Saved model to disk\n"
     ]
    }
   ],
   "source": [
    "save_model(model_final,'dl3-2')"
   ]
  },
  {
   "cell_type": "markdown",
   "metadata": {},
   "source": [
    "### PREDICTIONG / SUBMISSION"
   ]
  },
  {
   "cell_type": "markdown",
   "metadata": {},
   "source": [
    "##### LOAD MODEL AND WEIGHTS"
   ]
  },
  {
   "cell_type": "code",
   "execution_count": 54,
   "metadata": {},
   "outputs": [
    {
     "data": {
      "text/plain": [
       "26799"
      ]
     },
     "execution_count": 54,
     "metadata": {},
     "output_type": "execute_result"
    }
   ],
   "source": [
    "gc.collect()"
   ]
  },
  {
   "cell_type": "code",
   "execution_count": 55,
   "metadata": {},
   "outputs": [
    {
     "name": "stdout",
     "output_type": "stream",
     "text": [
      "CPU times: user 1min 31s, sys: 724 ms, total: 1min 32s\n",
      "Wall time: 1min 31s\n"
     ]
    }
   ],
   "source": [
    "%%time\n",
    "image_lr=[]\n",
    "test_img=[]\n",
    "for i in list(test.Image_name):\n",
    "    image_lr.append(read_image('./test_img/'+str(i),224,224))\n",
    "test_img=np.array(image_lr,dtype=np.float32)\n",
    "test_img=preprocess_input(test_img)"
   ]
  },
  {
   "cell_type": "code",
   "execution_count": null,
   "metadata": {},
   "outputs": [],
   "source": [
    "model_final=load_model('./weights/dl3-1')\n",
    "batch_size=256"
   ]
  },
  {
   "cell_type": "code",
   "execution_count": null,
   "metadata": {},
   "outputs": [],
   "source": [
    "test_datagen = ImageDataGenerator(\n",
    "#rescale = 1./255,\n",
    "horizontal_flip = True,\n",
    "zoom_range = 0.2,\n",
    "width_shift_range = 0.2,\n",
    "height_shift_range=0.2,\n",
    "rotation_range=20)\n",
    "\n"
   ]
  },
  {
   "cell_type": "code",
   "execution_count": 56,
   "metadata": {},
   "outputs": [
    {
     "name": "stdout",
     "output_type": "stream",
     "text": [
      "5400/5400 [==============================] - 67s 12ms/step\n"
     ]
    }
   ],
   "source": [
    "#test_generator = test_datagen.flow(test_img,batch_size = batch_size,shuffle=True)                                      \n",
    "#pred=model_final.predict_generator(test_generator,verbose=1)\n",
    "pred=model_final.predict(test_img,batch_size,verbose=1)\n"
   ]
  },
  {
   "cell_type": "code",
   "execution_count": 57,
   "metadata": {},
   "outputs": [
    {
     "data": {
      "text/plain": [
       "((5400, 1), (5400, 224, 224, 3))"
      ]
     },
     "execution_count": 57,
     "metadata": {},
     "output_type": "execute_result"
    }
   ],
   "source": [
    "test.shape,test_img.shape"
   ]
  },
  {
   "cell_type": "code",
   "execution_count": 58,
   "metadata": {},
   "outputs": [
    {
     "data": {
      "text/plain": [
       "(5400, 85)"
      ]
     },
     "execution_count": 58,
     "metadata": {},
     "output_type": "execute_result"
    }
   ],
   "source": [
    "pred.shape"
   ]
  },
  {
   "cell_type": "code",
   "execution_count": 59,
   "metadata": {},
   "outputs": [
    {
     "data": {
      "text/html": [
       "<div>\n",
       "<style scoped>\n",
       "    .dataframe tbody tr th:only-of-type {\n",
       "        vertical-align: middle;\n",
       "    }\n",
       "\n",
       "    .dataframe tbody tr th {\n",
       "        vertical-align: top;\n",
       "    }\n",
       "\n",
       "    .dataframe thead th {\n",
       "        text-align: right;\n",
       "    }\n",
       "</style>\n",
       "<table border=\"1\" class=\"dataframe\">\n",
       "  <thead>\n",
       "    <tr style=\"text-align: right;\">\n",
       "      <th></th>\n",
       "      <th>Image_name</th>\n",
       "      <th>attrib_01</th>\n",
       "      <th>attrib_02</th>\n",
       "      <th>attrib_03</th>\n",
       "      <th>attrib_04</th>\n",
       "      <th>attrib_05</th>\n",
       "      <th>attrib_06</th>\n",
       "      <th>attrib_07</th>\n",
       "      <th>attrib_08</th>\n",
       "      <th>attrib_09</th>\n",
       "      <th>...</th>\n",
       "      <th>attrib_76</th>\n",
       "      <th>attrib_77</th>\n",
       "      <th>attrib_78</th>\n",
       "      <th>attrib_79</th>\n",
       "      <th>attrib_80</th>\n",
       "      <th>attrib_81</th>\n",
       "      <th>attrib_82</th>\n",
       "      <th>attrib_83</th>\n",
       "      <th>attrib_84</th>\n",
       "      <th>attrib_85</th>\n",
       "    </tr>\n",
       "  </thead>\n",
       "  <tbody>\n",
       "    <tr>\n",
       "      <th>0</th>\n",
       "      <td>Image-1.jpg</td>\n",
       "      <td>6.590611e-09</td>\n",
       "      <td>2.707882e-21</td>\n",
       "      <td>9.575083e-20</td>\n",
       "      <td>1.167162e-11</td>\n",
       "      <td>1.268463e-19</td>\n",
       "      <td>0.999997</td>\n",
       "      <td>3.674178e-07</td>\n",
       "      <td>1.447827e-08</td>\n",
       "      <td>1.000000e+00</td>\n",
       "      <td>...</td>\n",
       "      <td>1.011168e-08</td>\n",
       "      <td>1.902872e-10</td>\n",
       "      <td>6.070585e-08</td>\n",
       "      <td>1.000000</td>\n",
       "      <td>9.999994e-01</td>\n",
       "      <td>2.497725e-08</td>\n",
       "      <td>0.000000e+00</td>\n",
       "      <td>0.999999</td>\n",
       "      <td>2.643347e-15</td>\n",
       "      <td>9.999990e-01</td>\n",
       "    </tr>\n",
       "    <tr>\n",
       "      <th>1</th>\n",
       "      <td>Image-2.jpg</td>\n",
       "      <td>7.526497e-03</td>\n",
       "      <td>8.639374e-03</td>\n",
       "      <td>1.139358e-05</td>\n",
       "      <td>9.765449e-01</td>\n",
       "      <td>7.089620e-04</td>\n",
       "      <td>0.996276</td>\n",
       "      <td>9.979795e-01</td>\n",
       "      <td>2.842009e-05</td>\n",
       "      <td>2.003714e-02</td>\n",
       "      <td>...</td>\n",
       "      <td>9.203355e-03</td>\n",
       "      <td>9.965774e-01</td>\n",
       "      <td>3.278466e-03</td>\n",
       "      <td>0.984282</td>\n",
       "      <td>1.455645e-02</td>\n",
       "      <td>4.313605e-05</td>\n",
       "      <td>1.387155e-04</td>\n",
       "      <td>0.009571</td>\n",
       "      <td>9.950004e-01</td>\n",
       "      <td>9.972405e-01</td>\n",
       "    </tr>\n",
       "    <tr>\n",
       "      <th>2</th>\n",
       "      <td>Image-3.jpg</td>\n",
       "      <td>1.594288e-04</td>\n",
       "      <td>8.821126e-10</td>\n",
       "      <td>3.041718e-08</td>\n",
       "      <td>9.963211e-01</td>\n",
       "      <td>7.202456e-12</td>\n",
       "      <td>0.000772</td>\n",
       "      <td>9.999815e-01</td>\n",
       "      <td>1.772646e-04</td>\n",
       "      <td>1.904662e-05</td>\n",
       "      <td>...</td>\n",
       "      <td>9.992078e-01</td>\n",
       "      <td>8.218395e-05</td>\n",
       "      <td>1.576865e-06</td>\n",
       "      <td>0.999880</td>\n",
       "      <td>1.371768e-08</td>\n",
       "      <td>2.738316e-07</td>\n",
       "      <td>3.635395e-12</td>\n",
       "      <td>0.999019</td>\n",
       "      <td>1.118150e-05</td>\n",
       "      <td>9.999999e-01</td>\n",
       "    </tr>\n",
       "    <tr>\n",
       "      <th>3</th>\n",
       "      <td>Image-4.jpg</td>\n",
       "      <td>9.993438e-01</td>\n",
       "      <td>4.352959e-06</td>\n",
       "      <td>1.002249e-04</td>\n",
       "      <td>8.755418e-01</td>\n",
       "      <td>2.154181e-01</td>\n",
       "      <td>0.999337</td>\n",
       "      <td>1.942482e-01</td>\n",
       "      <td>1.693443e-05</td>\n",
       "      <td>1.857406e-03</td>\n",
       "      <td>...</td>\n",
       "      <td>9.278719e-01</td>\n",
       "      <td>9.988418e-01</td>\n",
       "      <td>9.991425e-01</td>\n",
       "      <td>0.997216</td>\n",
       "      <td>1.700524e-04</td>\n",
       "      <td>1.328669e-03</td>\n",
       "      <td>3.556960e-14</td>\n",
       "      <td>0.707153</td>\n",
       "      <td>3.011992e-06</td>\n",
       "      <td>1.036977e-01</td>\n",
       "    </tr>\n",
       "    <tr>\n",
       "      <th>4</th>\n",
       "      <td>Image-5.jpg</td>\n",
       "      <td>2.638847e-12</td>\n",
       "      <td>7.089736e-16</td>\n",
       "      <td>8.960608e-20</td>\n",
       "      <td>9.999992e-01</td>\n",
       "      <td>5.148360e-14</td>\n",
       "      <td>0.999999</td>\n",
       "      <td>8.192628e-07</td>\n",
       "      <td>1.033152e-17</td>\n",
       "      <td>7.100001e-14</td>\n",
       "      <td>...</td>\n",
       "      <td>2.225923e-10</td>\n",
       "      <td>1.708061e-14</td>\n",
       "      <td>1.051992e-15</td>\n",
       "      <td>1.000000</td>\n",
       "      <td>9.999912e-01</td>\n",
       "      <td>7.622722e-19</td>\n",
       "      <td>5.697673e-32</td>\n",
       "      <td>1.000000</td>\n",
       "      <td>1.737507e-16</td>\n",
       "      <td>7.790074e-08</td>\n",
       "    </tr>\n",
       "  </tbody>\n",
       "</table>\n",
       "<p>5 rows × 86 columns</p>\n",
       "</div>"
      ],
      "text/plain": [
       "    Image_name     attrib_01     attrib_02     attrib_03     attrib_04  \\\n",
       "0  Image-1.jpg  6.590611e-09  2.707882e-21  9.575083e-20  1.167162e-11   \n",
       "1  Image-2.jpg  7.526497e-03  8.639374e-03  1.139358e-05  9.765449e-01   \n",
       "2  Image-3.jpg  1.594288e-04  8.821126e-10  3.041718e-08  9.963211e-01   \n",
       "3  Image-4.jpg  9.993438e-01  4.352959e-06  1.002249e-04  8.755418e-01   \n",
       "4  Image-5.jpg  2.638847e-12  7.089736e-16  8.960608e-20  9.999992e-01   \n",
       "\n",
       "      attrib_05  attrib_06     attrib_07     attrib_08     attrib_09  \\\n",
       "0  1.268463e-19   0.999997  3.674178e-07  1.447827e-08  1.000000e+00   \n",
       "1  7.089620e-04   0.996276  9.979795e-01  2.842009e-05  2.003714e-02   \n",
       "2  7.202456e-12   0.000772  9.999815e-01  1.772646e-04  1.904662e-05   \n",
       "3  2.154181e-01   0.999337  1.942482e-01  1.693443e-05  1.857406e-03   \n",
       "4  5.148360e-14   0.999999  8.192628e-07  1.033152e-17  7.100001e-14   \n",
       "\n",
       "       ...          attrib_76     attrib_77     attrib_78  attrib_79  \\\n",
       "0      ...       1.011168e-08  1.902872e-10  6.070585e-08   1.000000   \n",
       "1      ...       9.203355e-03  9.965774e-01  3.278466e-03   0.984282   \n",
       "2      ...       9.992078e-01  8.218395e-05  1.576865e-06   0.999880   \n",
       "3      ...       9.278719e-01  9.988418e-01  9.991425e-01   0.997216   \n",
       "4      ...       2.225923e-10  1.708061e-14  1.051992e-15   1.000000   \n",
       "\n",
       "      attrib_80     attrib_81     attrib_82  attrib_83     attrib_84  \\\n",
       "0  9.999994e-01  2.497725e-08  0.000000e+00   0.999999  2.643347e-15   \n",
       "1  1.455645e-02  4.313605e-05  1.387155e-04   0.009571  9.950004e-01   \n",
       "2  1.371768e-08  2.738316e-07  3.635395e-12   0.999019  1.118150e-05   \n",
       "3  1.700524e-04  1.328669e-03  3.556960e-14   0.707153  3.011992e-06   \n",
       "4  9.999912e-01  7.622722e-19  5.697673e-32   1.000000  1.737507e-16   \n",
       "\n",
       "      attrib_85  \n",
       "0  9.999990e-01  \n",
       "1  9.972405e-01  \n",
       "2  9.999999e-01  \n",
       "3  1.036977e-01  \n",
       "4  7.790074e-08  \n",
       "\n",
       "[5 rows x 86 columns]"
      ]
     },
     "execution_count": 59,
     "metadata": {},
     "output_type": "execute_result"
    }
   ],
   "source": [
    "sam=pd.read_csv('./meta-data/sample_submission.csv')\n",
    "sam['Image_name']=test.Image_name\n",
    "sam.iloc[:,1:]=pred\n",
    "sam.head()"
   ]
  },
  {
   "cell_type": "code",
   "execution_count": null,
   "metadata": {
    "ExecuteTime": {
     "end_time": "2018-04-23T19:46:42.434678Z",
     "start_time": "2018-04-23T19:46:42.191240Z"
    }
   },
   "outputs": [],
   "source": [
    "sam=pd.read_csv('sub-xception-4-prob.csv')"
   ]
  },
  {
   "cell_type": "code",
   "execution_count": 60,
   "metadata": {
    "ExecuteTime": {
     "end_time": "2018-04-23T19:47:53.221183Z",
     "start_time": "2018-04-23T19:47:52.804408Z"
    }
   },
   "outputs": [],
   "source": [
    "temp=sam.copy()\n",
    "for i in sam.iloc[:,1:]:\n",
    "    temp[i]=sam[i].apply(lambda x: 1 if x>0.5 else 0)\n",
    "        "
   ]
  },
  {
   "cell_type": "code",
   "execution_count": 61,
   "metadata": {
    "ExecuteTime": {
     "end_time": "2018-04-23T19:47:57.443863Z",
     "start_time": "2018-04-23T19:47:57.382368Z"
    }
   },
   "outputs": [
    {
     "data": {
      "text/html": [
       "<div>\n",
       "<style scoped>\n",
       "    .dataframe tbody tr th:only-of-type {\n",
       "        vertical-align: middle;\n",
       "    }\n",
       "\n",
       "    .dataframe tbody tr th {\n",
       "        vertical-align: top;\n",
       "    }\n",
       "\n",
       "    .dataframe thead th {\n",
       "        text-align: right;\n",
       "    }\n",
       "</style>\n",
       "<table border=\"1\" class=\"dataframe\">\n",
       "  <thead>\n",
       "    <tr style=\"text-align: right;\">\n",
       "      <th></th>\n",
       "      <th>Image_name</th>\n",
       "      <th>attrib_01</th>\n",
       "      <th>attrib_02</th>\n",
       "      <th>attrib_03</th>\n",
       "      <th>attrib_04</th>\n",
       "      <th>attrib_05</th>\n",
       "      <th>attrib_06</th>\n",
       "      <th>attrib_07</th>\n",
       "      <th>attrib_08</th>\n",
       "      <th>attrib_09</th>\n",
       "      <th>...</th>\n",
       "      <th>attrib_76</th>\n",
       "      <th>attrib_77</th>\n",
       "      <th>attrib_78</th>\n",
       "      <th>attrib_79</th>\n",
       "      <th>attrib_80</th>\n",
       "      <th>attrib_81</th>\n",
       "      <th>attrib_82</th>\n",
       "      <th>attrib_83</th>\n",
       "      <th>attrib_84</th>\n",
       "      <th>attrib_85</th>\n",
       "    </tr>\n",
       "  </thead>\n",
       "  <tbody>\n",
       "    <tr>\n",
       "      <th>0</th>\n",
       "      <td>Image-1.jpg</td>\n",
       "      <td>0</td>\n",
       "      <td>0</td>\n",
       "      <td>0</td>\n",
       "      <td>0</td>\n",
       "      <td>0</td>\n",
       "      <td>1</td>\n",
       "      <td>0</td>\n",
       "      <td>0</td>\n",
       "      <td>1</td>\n",
       "      <td>...</td>\n",
       "      <td>0</td>\n",
       "      <td>0</td>\n",
       "      <td>0</td>\n",
       "      <td>1</td>\n",
       "      <td>1</td>\n",
       "      <td>0</td>\n",
       "      <td>0</td>\n",
       "      <td>1</td>\n",
       "      <td>0</td>\n",
       "      <td>1</td>\n",
       "    </tr>\n",
       "    <tr>\n",
       "      <th>1</th>\n",
       "      <td>Image-2.jpg</td>\n",
       "      <td>0</td>\n",
       "      <td>0</td>\n",
       "      <td>0</td>\n",
       "      <td>1</td>\n",
       "      <td>0</td>\n",
       "      <td>1</td>\n",
       "      <td>1</td>\n",
       "      <td>0</td>\n",
       "      <td>0</td>\n",
       "      <td>...</td>\n",
       "      <td>0</td>\n",
       "      <td>1</td>\n",
       "      <td>0</td>\n",
       "      <td>1</td>\n",
       "      <td>0</td>\n",
       "      <td>0</td>\n",
       "      <td>0</td>\n",
       "      <td>0</td>\n",
       "      <td>1</td>\n",
       "      <td>1</td>\n",
       "    </tr>\n",
       "    <tr>\n",
       "      <th>2</th>\n",
       "      <td>Image-3.jpg</td>\n",
       "      <td>0</td>\n",
       "      <td>0</td>\n",
       "      <td>0</td>\n",
       "      <td>1</td>\n",
       "      <td>0</td>\n",
       "      <td>0</td>\n",
       "      <td>1</td>\n",
       "      <td>0</td>\n",
       "      <td>0</td>\n",
       "      <td>...</td>\n",
       "      <td>1</td>\n",
       "      <td>0</td>\n",
       "      <td>0</td>\n",
       "      <td>1</td>\n",
       "      <td>0</td>\n",
       "      <td>0</td>\n",
       "      <td>0</td>\n",
       "      <td>1</td>\n",
       "      <td>0</td>\n",
       "      <td>1</td>\n",
       "    </tr>\n",
       "    <tr>\n",
       "      <th>3</th>\n",
       "      <td>Image-4.jpg</td>\n",
       "      <td>1</td>\n",
       "      <td>0</td>\n",
       "      <td>0</td>\n",
       "      <td>1</td>\n",
       "      <td>0</td>\n",
       "      <td>1</td>\n",
       "      <td>0</td>\n",
       "      <td>0</td>\n",
       "      <td>0</td>\n",
       "      <td>...</td>\n",
       "      <td>1</td>\n",
       "      <td>1</td>\n",
       "      <td>1</td>\n",
       "      <td>1</td>\n",
       "      <td>0</td>\n",
       "      <td>0</td>\n",
       "      <td>0</td>\n",
       "      <td>1</td>\n",
       "      <td>0</td>\n",
       "      <td>0</td>\n",
       "    </tr>\n",
       "    <tr>\n",
       "      <th>4</th>\n",
       "      <td>Image-5.jpg</td>\n",
       "      <td>0</td>\n",
       "      <td>0</td>\n",
       "      <td>0</td>\n",
       "      <td>1</td>\n",
       "      <td>0</td>\n",
       "      <td>1</td>\n",
       "      <td>0</td>\n",
       "      <td>0</td>\n",
       "      <td>0</td>\n",
       "      <td>...</td>\n",
       "      <td>0</td>\n",
       "      <td>0</td>\n",
       "      <td>0</td>\n",
       "      <td>1</td>\n",
       "      <td>1</td>\n",
       "      <td>0</td>\n",
       "      <td>0</td>\n",
       "      <td>1</td>\n",
       "      <td>0</td>\n",
       "      <td>0</td>\n",
       "    </tr>\n",
       "  </tbody>\n",
       "</table>\n",
       "<p>5 rows × 86 columns</p>\n",
       "</div>"
      ],
      "text/plain": [
       "    Image_name  attrib_01  attrib_02  attrib_03  attrib_04  attrib_05  \\\n",
       "0  Image-1.jpg          0          0          0          0          0   \n",
       "1  Image-2.jpg          0          0          0          1          0   \n",
       "2  Image-3.jpg          0          0          0          1          0   \n",
       "3  Image-4.jpg          1          0          0          1          0   \n",
       "4  Image-5.jpg          0          0          0          1          0   \n",
       "\n",
       "   attrib_06  attrib_07  attrib_08  attrib_09    ...      attrib_76  \\\n",
       "0          1          0          0          1    ...              0   \n",
       "1          1          1          0          0    ...              0   \n",
       "2          0          1          0          0    ...              1   \n",
       "3          1          0          0          0    ...              1   \n",
       "4          1          0          0          0    ...              0   \n",
       "\n",
       "   attrib_77  attrib_78  attrib_79  attrib_80  attrib_81  attrib_82  \\\n",
       "0          0          0          1          1          0          0   \n",
       "1          1          0          1          0          0          0   \n",
       "2          0          0          1          0          0          0   \n",
       "3          1          1          1          0          0          0   \n",
       "4          0          0          1          1          0          0   \n",
       "\n",
       "   attrib_83  attrib_84  attrib_85  \n",
       "0          1          0          1  \n",
       "1          0          1          1  \n",
       "2          1          0          1  \n",
       "3          1          0          0  \n",
       "4          1          0          0  \n",
       "\n",
       "[5 rows x 86 columns]"
      ]
     },
     "execution_count": 61,
     "metadata": {},
     "output_type": "execute_result"
    }
   ],
   "source": [
    "temp.head()"
   ]
  },
  {
   "cell_type": "code",
   "execution_count": null,
   "metadata": {},
   "outputs": [],
   "source": [
    "sam.to_csv('sub-xception-4-prob.csv',index=False)"
   ]
  },
  {
   "cell_type": "code",
   "execution_count": 62,
   "metadata": {
    "ExecuteTime": {
     "end_time": "2018-04-23T19:48:01.441309Z",
     "start_time": "2018-04-23T19:48:00.949003Z"
    }
   },
   "outputs": [
    {
     "data": {
      "text/plain": [
       "(5400, 86)"
      ]
     },
     "execution_count": 62,
     "metadata": {},
     "output_type": "execute_result"
    }
   ],
   "source": [
    "\n",
    "temp.to_csv('sub-xception-new-1.csv',index=False)\n",
    "temp.shape"
   ]
  }
 ],
 "metadata": {
  "anaconda-cloud": {},
  "kernelspec": {
   "display_name": "Python 3",
   "language": "python",
   "name": "python3"
  },
  "language_info": {
   "codemirror_mode": {
    "name": "ipython",
    "version": 3
   },
   "file_extension": ".py",
   "mimetype": "text/x-python",
   "name": "python",
   "nbconvert_exporter": "python",
   "pygments_lexer": "ipython3",
   "version": "3.6.4"
  }
 },
 "nbformat": 4,
 "nbformat_minor": 2
}
