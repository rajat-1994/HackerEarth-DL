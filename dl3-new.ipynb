{
 "cells": [
  {
   "cell_type": "markdown",
   "metadata": {
    "deletable": true,
    "editable": true
   },
   "source": [
    "## MULTI-LABEL IMAGE CLASSIFICATION WITH KERAS"
   ]
  },
  {
   "cell_type": "markdown",
   "metadata": {
    "deletable": true,
    "editable": true
   },
   "source": [
    "### LOADING LIBRARIES"
   ]
  },
  {
   "cell_type": "code",
   "execution_count": 1,
   "metadata": {
    "collapsed": false,
    "deletable": true,
    "editable": true
   },
   "outputs": [
    {
     "name": "stdout",
     "output_type": "stream",
     "text": [
      "Collecting pillow\n",
      "  Downloading https://files.pythonhosted.org/packages/5f/4b/8b54ab9d37b93998c81b364557dff9f61972c0f650efa0ceaf470b392740/Pillow-5.1.0-cp36-cp36m-manylinux1_x86_64.whl (2.0MB)\n",
      "\u001b[K    100% |████████████████████████████████| 2.0MB 674kB/s eta 0:00:01\n",
      "\u001b[?25hInstalling collected packages: pillow\n",
      "Successfully installed pillow-5.1.0\n",
      "\u001b[33mYou are using pip version 9.0.3, however version 10.0.1 is available.\n",
      "You should consider upgrading via the 'pip install --upgrade pip' command.\u001b[0m\n",
      "Collecting sklearn\n",
      "  Downloading https://files.pythonhosted.org/packages/1e/7a/dbb3be0ce9bd5c8b7e3d87328e79063f8b263b2b1bfa4774cb1147bfcd3f/sklearn-0.0.tar.gz\n",
      "Collecting scikit-learn (from sklearn)\n",
      "  Downloading https://files.pythonhosted.org/packages/3d/2d/9fbc7baa5f44bc9e88ffb7ed32721b879bfa416573e85031e16f52569bc9/scikit_learn-0.19.1-cp36-cp36m-manylinux1_x86_64.whl (12.4MB)\n",
      "\u001b[K    100% |████████████████████████████████| 12.4MB 111kB/s eta 0:00:01\n",
      "\u001b[?25hBuilding wheels for collected packages: sklearn\n",
      "  Running setup.py bdist_wheel for sklearn ... \u001b[?25ldone\n",
      "\u001b[?25h  Stored in directory: /home/ubuntu/.cache/pip/wheels/76/03/bb/589d421d27431bcd2c6da284d5f2286c8e3b2ea3cf1594c074\n",
      "Successfully built sklearn\n",
      "Installing collected packages: scikit-learn, sklearn\n",
      "Successfully installed scikit-learn-0.19.1 sklearn-0.0\n",
      "\u001b[33mYou are using pip version 9.0.3, however version 10.0.1 is available.\n",
      "You should consider upgrading via the 'pip install --upgrade pip' command.\u001b[0m\n"
     ]
    }
   ],
   "source": [
    "!pip install pillow\n",
    "!pip install sklearn"
   ]
  },
  {
   "cell_type": "code",
   "execution_count": 1,
   "metadata": {
    "ExecuteTime": {
     "end_time": "2018-04-23T19:46:09.909799Z",
     "start_time": "2018-04-23T19:46:09.156371Z"
    },
    "collapsed": false,
    "deletable": true,
    "editable": true,
    "scrolled": false
   },
   "outputs": [],
   "source": [
    "import PIL\n",
    "import PIL.Image\n",
    "\n",
    "from sklearn.utils import shuffle\n",
    "import pandas as pd"
   ]
  },
  {
   "cell_type": "code",
   "execution_count": 26,
   "metadata": {
    "collapsed": true,
    "deletable": true,
    "editable": true
   },
   "outputs": [],
   "source": [
    "from keras import applications\n",
    "from keras.preprocessing.image import ImageDataGenerator\n",
    "from keras import optimizers\n",
    "from keras.models import Sequential, Model \n",
    "from keras.layers import Dropout, Flatten, Dense, GlobalAveragePooling2D\n",
    "from keras import backend as K\n",
    "from keras.callbacks import ModelCheckpoint, LearningRateScheduler, TensorBoard, EarlyStopping\n",
    "from keras.preprocessing import image\n",
    "from keras.utils.np_utils import to_categorical\n",
    "import numpy as np\n",
    "#from sklearn.preprocessing import LabelEncoder\n",
    "from keras.optimizers import Adam\n",
    "from keras.layers import Input, Dense, Convolution2D, MaxPooling2D, AveragePooling2D, ZeroPadding2D, Dropout, Flatten, merge, Reshape, Activation"
   ]
  },
  {
   "cell_type": "code",
   "execution_count": 4,
   "metadata": {
    "collapsed": false,
    "deletable": true,
    "editable": true
   },
   "outputs": [
    {
     "name": "stderr",
     "output_type": "stream",
     "text": [
      "/home/ubuntu/anaconda3/envs/tensorflow_p36/lib/python3.6/site-packages/matplotlib/font_manager.py:278: UserWarning: Matplotlib is building the font cache using fc-list. This may take a moment.\n",
      "  'Matplotlib is building the font cache using fc-list. '\n"
     ]
    }
   ],
   "source": [
    "\n",
    "import glob,matplotlib as plt\n",
    "%matplotlib inline"
   ]
  },
  {
   "cell_type": "code",
   "execution_count": 7,
   "metadata": {
    "collapsed": true,
    "deletable": true,
    "editable": true
   },
   "outputs": [],
   "source": [
    "#from keras.applications.vgg16 import VGG16, preprocess_input,decode_predictions"
   ]
  },
  {
   "cell_type": "code",
   "execution_count": 5,
   "metadata": {
    "collapsed": true,
    "deletable": true,
    "editable": true
   },
   "outputs": [],
   "source": [
    "from keras.applications.xception import Xception,preprocess_input, decode_predictions"
   ]
  },
  {
   "cell_type": "markdown",
   "metadata": {
    "deletable": true,
    "editable": true
   },
   "source": [
    "### LOADING DATA"
   ]
  },
  {
   "cell_type": "code",
   "execution_count": 6,
   "metadata": {
    "collapsed": true,
    "deletable": true,
    "editable": true
   },
   "outputs": [],
   "source": [
    "train=pd.read_csv('./meta-data/train.csv')\n",
    "test=pd.read_csv('./meta-data/test.csv')\n"
   ]
  },
  {
   "cell_type": "code",
   "execution_count": 7,
   "metadata": {
    "collapsed": true,
    "deletable": true,
    "editable": true
   },
   "outputs": [],
   "source": [
    "img_width, img_height = 224, 224"
   ]
  },
  {
   "cell_type": "code",
   "execution_count": 8,
   "metadata": {
    "collapsed": false,
    "deletable": true,
    "editable": true
   },
   "outputs": [
    {
     "data": {
      "text/plain": [
       "((12600, 86), (5400, 1))"
      ]
     },
     "execution_count": 8,
     "metadata": {},
     "output_type": "execute_result"
    }
   ],
   "source": [
    "train.shape,test.shape"
   ]
  },
  {
   "cell_type": "code",
   "execution_count": 9,
   "metadata": {
    "collapsed": true,
    "deletable": true,
    "editable": true
   },
   "outputs": [],
   "source": [
    "\n",
    "import cv2\n",
    "def read_image(img_path,H,W):\n",
    "    img = cv2.imread(img_path, cv2.IMREAD_COLOR)\n",
    "    #img = cv2.cvtColor(img, cv2.COLOR_BGR2RGB)\n",
    "    img = cv2.resize(img, (W,H)) # you can resize to  (128,128) or (256,256)\n",
    "    return img\n"
   ]
  },
  {
   "cell_type": "code",
   "execution_count": 10,
   "metadata": {
    "collapsed": false,
    "deletable": true,
    "editable": true
   },
   "outputs": [
    {
     "data": {
      "text/plain": [
       "11"
      ]
     },
     "execution_count": 10,
     "metadata": {},
     "output_type": "execute_result"
    }
   ],
   "source": [
    "import gc\n",
    "gc.collect()"
   ]
  },
  {
   "cell_type": "code",
   "execution_count": 11,
   "metadata": {
    "collapsed": false,
    "deletable": true,
    "editable": true
   },
   "outputs": [
    {
     "name": "stdout",
     "output_type": "stream",
     "text": [
      "CPU times: user 3min 32s, sys: 4.03 s, total: 3min 36s\n",
      "Wall time: 3min 36s\n"
     ]
    }
   ],
   "source": [
    "%%time\n",
    "image_lr=[]\n",
    "train_img=[]\n",
    "for i in list(train.Image_name):\n",
    "    image_lr.append(read_image('./train_img/'+str(i),224,224))\n",
    "train_img=np.array(image_lr,dtype=np.float32)\n",
    "train_img=preprocess_input(train_img)"
   ]
  },
  {
   "cell_type": "code",
   "execution_count": 16,
   "metadata": {
    "collapsed": false,
    "deletable": true,
    "editable": true
   },
   "outputs": [
    {
     "data": {
      "text/plain": [
       "(12600, 224, 224, 3)"
      ]
     },
     "execution_count": 16,
     "metadata": {},
     "output_type": "execute_result"
    }
   ],
   "source": [
    "train_img.shape#,test_img.shape"
   ]
  },
  {
   "cell_type": "code",
   "execution_count": 13,
   "metadata": {
    "collapsed": false,
    "deletable": true,
    "editable": true
   },
   "outputs": [
    {
     "data": {
      "text/plain": [
       "0"
      ]
     },
     "execution_count": 13,
     "metadata": {},
     "output_type": "execute_result"
    }
   ],
   "source": [
    "\n",
    "# Initiate the train and test generators with data Augumentation \n",
    "train_datagen = ImageDataGenerator(\n",
    "#rescale = 1./255,   \n",
    "horizontal_flip = True,\n",
    "zoom_range = 0.2,\n",
    "width_shift_range = 0.2,\n",
    "height_shift_range=0.2,\n",
    "rotation_range=20)\n",
    "\n",
    "'''\n",
    "\n",
    "test_datagen = ImageDataGenerator(\n",
    "#rescale = 1./255,\n",
    "horizontal_flip = True,\n",
    "zoom_range = 0.2,\n",
    "width_shift_range = 0.2,\n",
    "height_shift_range=0.2,\n",
    "rotation_range=20)\n",
    "\n",
    "\n",
    "'''\n",
    "\n",
    "\n",
    "gc.collect()\n"
   ]
  },
  {
   "cell_type": "code",
   "execution_count": 14,
   "metadata": {
    "collapsed": false,
    "deletable": true,
    "editable": true
   },
   "outputs": [
    {
     "data": {
      "text/plain": [
       "(12600, 85)"
      ]
     },
     "execution_count": 14,
     "metadata": {},
     "output_type": "execute_result"
    }
   ],
   "source": [
    "Y=train.iloc[:,1:]\n",
    "Y.shape"
   ]
  },
  {
   "cell_type": "code",
   "execution_count": 15,
   "metadata": {
    "collapsed": false,
    "deletable": true,
    "editable": true
   },
   "outputs": [
    {
     "data": {
      "text/plain": [
       "((11340, 224, 224, 3), (11340, 85), (1260, 224, 224, 3), (1260, 85))"
      ]
     },
     "execution_count": 15,
     "metadata": {},
     "output_type": "execute_result"
    }
   ],
   "source": [
    "l=int(train.shape[0]-(0.1*train.shape[0]))\n",
    "l\n",
    "x_train=train_img[:l,:,:,:]\n",
    "y_train=Y[:l]\n",
    "x_valid=train_img[l:,:,:,:]\n",
    "y_valid=Y[l:]\n",
    "x_train.shape,y_train.shape,x_valid.shape,y_valid.shape\n"
   ]
  },
  {
   "cell_type": "code",
   "execution_count": 16,
   "metadata": {
    "collapsed": true,
    "deletable": true,
    "editable": true
   },
   "outputs": [],
   "source": [
    "batch_size=256"
   ]
  },
  {
   "cell_type": "code",
   "execution_count": 17,
   "metadata": {
    "collapsed": true,
    "deletable": true,
    "editable": true
   },
   "outputs": [],
   "source": [
    "\n",
    "\n",
    "train_generator = train_datagen.flow(train_img,Y,\n",
    "                                    batch_size = batch_size,\n",
    "                                    shuffle=True)\n",
    "                                    #class_mode = \"categorical\")\n",
    "    \n",
    "'''\n",
    "validation_generator = test_datagen.flow(x_valid,y_valid,\n",
    "                                         batch_size = batch_size,\n",
    "                                        shuffle=True)\n",
    "                                        #class_mode = \"categorical\")\n",
    "\n",
    "'''"
   ]
  },
  {
   "cell_type": "code",
   "execution_count": 18,
   "metadata": {
    "collapsed": false,
    "deletable": true,
    "editable": true
   },
   "outputs": [
    {
     "name": "stdout",
     "output_type": "stream",
     "text": [
      "Downloading data from https://github.com/fchollet/deep-learning-models/releases/download/v0.4/xception_weights_tf_dim_ordering_tf_kernels_notop.h5\n",
      "83689472/83683744 [==============================] - 1s 0us/step: \n"
     ]
    }
   ],
   "source": [
    "model = applications.Xception(weights = \"imagenet\", include_top=False, input_shape = (img_width, img_height, 3))"
   ]
  },
  {
   "cell_type": "code",
   "execution_count": 19,
   "metadata": {
    "collapsed": true,
    "deletable": true,
    "editable": true
   },
   "outputs": [],
   "source": [
    "# Freeze the layers which you don't want to train. Here I am freezing the first 5 layers.\n",
    "for layer in model.layers:\n",
    "    layer.trainable = False"
   ]
  },
  {
   "cell_type": "code",
   "execution_count": 31,
   "metadata": {
    "collapsed": false,
    "deletable": true,
    "editable": true
   },
   "outputs": [
    {
     "name": "stderr",
     "output_type": "stream",
     "text": [
      "/home/ubuntu/anaconda3/envs/tensorflow_p36/lib/python3.6/site-packages/ipykernel_launcher.py:12: UserWarning: Update your `Model` call to the Keras 2 API: `Model(inputs=Tensor(\"in..., outputs=Tensor(\"de...)`\n",
      "  if sys.path[0] == '':\n"
     ]
    }
   ],
   "source": [
    "\n",
    "\n",
    "#Adding custom Layers \n",
    "x = model.output\n",
    "x = GlobalAveragePooling2D()(x)\n",
    "x = Dense(512, activation=\"relu\")(x)\n",
    "x = Dropout(0.3)(x)\n",
    "x = Dense(128, activation=\"relu\")(x)\n",
    "predictions = Dense(85, activation=\"sigmoid\")(x)\n",
    "\n",
    "# creating the final model \n",
    "model_final = Model(input = model.input, output = predictions)\n"
   ]
  },
  {
   "cell_type": "code",
   "execution_count": 24,
   "metadata": {
    "collapsed": true,
    "deletable": true,
    "editable": true
   },
   "outputs": [],
   "source": [
    "def fbeta(y_true, y_pred, threshold_shift=0):\n",
    "    beta = 1\n",
    "\n",
    "    # just in case of hipster activation at the final layer\n",
    "    y_pred = K.clip(y_pred, 0, 1)\n",
    "\n",
    "    # shifting the prediction threshold from .5 if needed\n",
    "    y_pred_bin = K.round(y_pred + threshold_shift)\n",
    "\n",
    "    tp = K.sum(K.round(y_true * y_pred_bin)) + K.epsilon()\n",
    "    fp = K.sum(K.round(K.clip(y_pred_bin - y_true, 0, 1)))\n",
    "    fn = K.sum(K.round(K.clip(y_true - y_pred, 0, 1)))\n",
    "\n",
    "    precision = tp / (tp + fp)\n",
    "    recall = tp / (tp + fn)\n",
    "\n",
    "    beta_squared = beta ** 2\n",
    "    return (beta_squared + 1) * (precision * recall) / (beta_squared * precision + recall + K.epsilon())"
   ]
  },
  {
   "cell_type": "code",
   "execution_count": 34,
   "metadata": {
    "collapsed": true,
    "deletable": true,
    "editable": true
   },
   "outputs": [],
   "source": [
    "adam = Adam(lr=1e-2)\n",
    "model_final.compile(optimizer=adam, loss='binary_crossentropy', metrics=[fbeta])"
   ]
  },
  {
   "cell_type": "code",
   "execution_count": 35,
   "metadata": {
    "collapsed": false,
    "deletable": true,
    "editable": true
   },
   "outputs": [
    {
     "name": "stdout",
     "output_type": "stream",
     "text": [
      "Epoch 1/3\n",
      "49/49 [==============================] - 162s 3s/step - loss: 0.4150 - fbeta: 0.7294 - val_loss: 0.2669 - val_fbeta: 0.8487\n",
      "Epoch 2/3\n",
      "49/49 [==============================] - 159s 3s/step - loss: 0.2471 - fbeta: 0.8493 - val_loss: 0.2060 - val_fbeta: 0.8783\n",
      "Epoch 3/3\n",
      "49/49 [==============================] - 159s 3s/step - loss: 0.2159 - fbeta: 0.8701 - val_loss: 0.1988 - val_fbeta: 0.8960\n"
     ]
    },
    {
     "data": {
      "text/plain": [
       "<keras.callbacks.History at 0x7fe530f9eac8>"
      ]
     },
     "execution_count": 35,
     "metadata": {},
     "output_type": "execute_result"
    }
   ],
   "source": [
    "#validation_data=validation_generator, validation_steps=x_valid.shape[0]//batch_size, \n",
    "model_final.fit_generator( train_generator, steps_per_epoch=train_img.shape[0]//batch_size, epochs=3,\n",
    "                          shuffle=True)"
   ]
  },
  {
   "cell_type": "code",
   "execution_count": 37,
   "metadata": {
    "collapsed": false,
    "deletable": true,
    "editable": true
   },
   "outputs": [
    {
     "name": "stdout",
     "output_type": "stream",
     "text": [
      "Epoch 1/2\n",
      "49/49 [==============================] - 161s 3s/step - loss: 0.1879 - fbeta: 0.8883 - val_loss: 0.1699 - val_fbeta: 0.9062\n",
      "Epoch 2/2\n",
      "49/49 [==============================] - 158s 3s/step - loss: 0.1852 - fbeta: 0.8913 - val_loss: 0.1698 - val_fbeta: 0.9078\n"
     ]
    },
    {
     "data": {
      "text/plain": [
       "<keras.callbacks.History at 0x7fe531323eb8>"
      ]
     },
     "execution_count": 37,
     "metadata": {},
     "output_type": "execute_result"
    }
   ],
   "source": [
    "# Train the model \n",
    "K.set_value(adam.lr, 0.001)\n",
    "model_final.fit_generator( train_generator, steps_per_epoch=train_img.shape[0]//batch_size, epochs=2,\n",
    "                          shuffle=True)\n",
    "#model_final.fit(train_img, Y,batch_size=256,epochs=3,shuffle=True,verbose=1)"
   ]
  },
  {
   "cell_type": "code",
   "execution_count": 55,
   "metadata": {
    "collapsed": true,
    "deletable": true,
    "editable": true
   },
   "outputs": [],
   "source": [
    "# Freeze the layers which you don't want to train. Here I am freezing the first 5 layers.\n",
    "for layer in model_final.layers[:110]:\n",
    "    layer.trainable = False\n",
    "for layer in model_final.layers[110:]:\n",
    "    layer.trainable = True"
   ]
  },
  {
   "cell_type": "code",
   "execution_count": 56,
   "metadata": {
    "collapsed": false,
    "deletable": true,
    "editable": true
   },
   "outputs": [
    {
     "name": "stdout",
     "output_type": "stream",
     "text": [
      "Epoch 1/1\n",
      "49/49 [==============================] - 190s 4s/step - loss: 0.1762 - fbeta: 0.8976 - val_loss: 0.1499 - val_fbeta: 0.9174\n"
     ]
    },
    {
     "data": {
      "text/plain": [
       "<keras.callbacks.History at 0x7fe5147f65c0>"
      ]
     },
     "execution_count": 56,
     "metadata": {},
     "output_type": "execute_result"
    }
   ],
   "source": [
    "adam = Adam(lr=1e-3)\n",
    "model_final.compile(optimizer=adam, loss='binary_crossentropy', metrics=[fbeta])\n",
    "model_final.fit_generator( train_generator, steps_per_epoch=train_img.shape[0]//batch_size, epochs=1,\n",
    "                          shuffle=True)"
   ]
  },
  {
   "cell_type": "code",
   "execution_count": 57,
   "metadata": {
    "collapsed": false,
    "deletable": true,
    "editable": true
   },
   "outputs": [
    {
     "name": "stdout",
     "output_type": "stream",
     "text": [
      "Epoch 1/2\n",
      "49/49 [==============================] - 188s 4s/step - loss: 0.1326 - fbeta: 0.9248 - val_loss: 0.1439 - val_fbeta: 0.9244\n",
      "Epoch 2/2\n",
      "49/49 [==============================] - 188s 4s/step - loss: 0.1137 - fbeta: 0.9366 - val_loss: 0.1311 - val_fbeta: 0.9279\n"
     ]
    },
    {
     "data": {
      "text/plain": [
       "<keras.callbacks.History at 0x7fe51486af60>"
      ]
     },
     "execution_count": 57,
     "metadata": {},
     "output_type": "execute_result"
    }
   ],
   "source": [
    "model_final.fit_generator( train_generator, steps_per_epoch=train_img.shape[0]//batch_size, epochs=2,\n",
    "                          shuffle=True)"
   ]
  },
  {
   "cell_type": "code",
   "execution_count": 66,
   "metadata": {
    "collapsed": false,
    "deletable": true,
    "editable": true
   },
   "outputs": [
    {
     "name": "stdout",
     "output_type": "stream",
     "text": [
      "Epoch 1/2\n",
      "49/49 [==============================] - 187s 4s/step - loss: 0.0953 - fbeta: 0.9468 - val_loss: 0.1027 - val_fbeta: 0.9441\n",
      "Epoch 2/2\n",
      "49/49 [==============================] - 185s 4s/step - loss: 0.0868 - fbeta: 0.9511 - val_loss: 0.0914 - val_fbeta: 0.9501\n"
     ]
    },
    {
     "data": {
      "text/plain": [
       "<keras.callbacks.History at 0x7fe50717d940>"
      ]
     },
     "execution_count": 66,
     "metadata": {},
     "output_type": "execute_result"
    }
   ],
   "source": [
    "K.set_value(adam.lr, 0.0001)\n",
    "model_final.fit_generator( train_generator, steps_per_epoch=train_img.shape[0]//batch_size, epochs=2,\n",
    "                          shuffle=True)"
   ]
  },
  {
   "cell_type": "code",
   "execution_count": 58,
   "metadata": {
    "collapsed": false,
    "deletable": true,
    "editable": true
   },
   "outputs": [
    {
     "name": "stdout",
     "output_type": "stream",
     "text": [
      "Saved model to disk\n"
     ]
    }
   ],
   "source": [
    "# serialize model to JSON\n",
    "from keras.models import model_from_json\n",
    "model_json = model_final.to_json()\n",
    "with open(\"dl3-1.json\", \"w\") as json_file:\n",
    "    json_file.write(model_json)\n",
    "# serialize weights to HDF5\n",
    "model_final.save_weights(\"dl3-1.h5\")\n",
    "print(\"Saved model to disk\")\n",
    " \n",
    "# later...\n"
   ]
  },
  {
   "cell_type": "markdown",
   "metadata": {
    "deletable": true,
    "editable": true
   },
   "source": [
    "### PREDICTIONG / SUBMISSION"
   ]
  },
  {
   "cell_type": "markdown",
   "metadata": {
    "deletable": true,
    "editable": true
   },
   "source": [
    "##### LOAD MODEL AND WEIGHTS"
   ]
  },
  {
   "cell_type": "code",
   "execution_count": 40,
   "metadata": {
    "collapsed": false,
    "deletable": true,
    "editable": true
   },
   "outputs": [
    {
     "data": {
      "text/plain": [
       "11630"
      ]
     },
     "execution_count": 40,
     "metadata": {},
     "output_type": "execute_result"
    }
   ],
   "source": [
    "gc.collect()"
   ]
  },
  {
   "cell_type": "code",
   "execution_count": 39,
   "metadata": {
    "collapsed": false,
    "deletable": true,
    "editable": true
   },
   "outputs": [
    {
     "name": "stdout",
     "output_type": "stream",
     "text": [
      "CPU times: user 1min 31s, sys: 1.38 s, total: 1min 32s\n",
      "Wall time: 1min 31s\n"
     ]
    }
   ],
   "source": [
    "%%time\n",
    "image_lr=[]\n",
    "test_img=[]\n",
    "for i in list(test.Image_name):\n",
    "    image_lr.append(read_image('./test_img/'+str(i),224,224))\n",
    "test_img=np.array(image_lr,dtype=np.float32)\n",
    "test_img=preprocess_input(test_img)"
   ]
  },
  {
   "cell_type": "code",
   "execution_count": 12,
   "metadata": {
    "collapsed": false,
    "deletable": true,
    "editable": true
   },
   "outputs": [
    {
     "name": "stdout",
     "output_type": "stream",
     "text": [
      "Loaded model from disk\n"
     ]
    }
   ],
   "source": [
    "from keras.models import model_from_json\n",
    "# load json and create model\n",
    "json_file = open('dl3-1.json', 'r')\n",
    "loaded_model_json = json_file.read()\n",
    "json_file.close()\n",
    "model_final = model_from_json(loaded_model_json)\n",
    "# load weights into new model\n",
    "model_final.load_weights(\"dl3-1.h5\")\n",
    "print(\"Loaded model from disk\")\n",
    "\n"
   ]
  },
  {
   "cell_type": "code",
   "execution_count": 15,
   "metadata": {
    "collapsed": true,
    "deletable": true,
    "editable": true
   },
   "outputs": [],
   "source": [
    "test_datagen = ImageDataGenerator(\n",
    "#rescale = 1./255,\n",
    "horizontal_flip = True,\n",
    "zoom_range = 0.2,\n",
    "width_shift_range = 0.2,\n",
    "height_shift_range=0.2,\n",
    "rotation_range=20)\n",
    "\n",
    "batch_size=256"
   ]
  },
  {
   "cell_type": "code",
   "execution_count": 68,
   "metadata": {
    "collapsed": false,
    "deletable": true,
    "editable": true
   },
   "outputs": [
    {
     "name": "stdout",
     "output_type": "stream",
     "text": [
      "5400/5400 [==============================] - 69s 13ms/step\n"
     ]
    }
   ],
   "source": [
    "#test_generator = test_datagen.flow(test_img,batch_size = batch_size,shuffle=True)                                      \n",
    "#pred=model_final.predict_generator(test_generator,verbose=1)\n",
    "pred=model_final.predict(test_img,batch_size,verbose=1)\n"
   ]
  },
  {
   "cell_type": "code",
   "execution_count": 21,
   "metadata": {
    "collapsed": false,
    "deletable": true,
    "editable": true
   },
   "outputs": [
    {
     "data": {
      "text/plain": [
       "((5400, 1), (5400, 224, 224, 3))"
      ]
     },
     "execution_count": 21,
     "metadata": {},
     "output_type": "execute_result"
    }
   ],
   "source": [
    "test.shape,test_img.shape"
   ]
  },
  {
   "cell_type": "code",
   "execution_count": 22,
   "metadata": {
    "collapsed": false,
    "deletable": true,
    "editable": true
   },
   "outputs": [
    {
     "data": {
      "text/plain": [
       "(5400, 85)"
      ]
     },
     "execution_count": 22,
     "metadata": {},
     "output_type": "execute_result"
    }
   ],
   "source": [
    "pred.shape"
   ]
  },
  {
   "cell_type": "code",
   "execution_count": 69,
   "metadata": {
    "collapsed": false,
    "deletable": true,
    "editable": true
   },
   "outputs": [
    {
     "data": {
      "text/html": [
       "<div>\n",
       "<style scoped>\n",
       "    .dataframe tbody tr th:only-of-type {\n",
       "        vertical-align: middle;\n",
       "    }\n",
       "\n",
       "    .dataframe tbody tr th {\n",
       "        vertical-align: top;\n",
       "    }\n",
       "\n",
       "    .dataframe thead th {\n",
       "        text-align: right;\n",
       "    }\n",
       "</style>\n",
       "<table border=\"1\" class=\"dataframe\">\n",
       "  <thead>\n",
       "    <tr style=\"text-align: right;\">\n",
       "      <th></th>\n",
       "      <th>Image_name</th>\n",
       "      <th>attrib_01</th>\n",
       "      <th>attrib_02</th>\n",
       "      <th>attrib_03</th>\n",
       "      <th>attrib_04</th>\n",
       "      <th>attrib_05</th>\n",
       "      <th>attrib_06</th>\n",
       "      <th>attrib_07</th>\n",
       "      <th>attrib_08</th>\n",
       "      <th>attrib_09</th>\n",
       "      <th>...</th>\n",
       "      <th>attrib_76</th>\n",
       "      <th>attrib_77</th>\n",
       "      <th>attrib_78</th>\n",
       "      <th>attrib_79</th>\n",
       "      <th>attrib_80</th>\n",
       "      <th>attrib_81</th>\n",
       "      <th>attrib_82</th>\n",
       "      <th>attrib_83</th>\n",
       "      <th>attrib_84</th>\n",
       "      <th>attrib_85</th>\n",
       "    </tr>\n",
       "  </thead>\n",
       "  <tbody>\n",
       "    <tr>\n",
       "      <th>0</th>\n",
       "      <td>Image-1.jpg</td>\n",
       "      <td>1.031856e-05</td>\n",
       "      <td>8.196082e-07</td>\n",
       "      <td>1.444669e-11</td>\n",
       "      <td>8.404958e-07</td>\n",
       "      <td>6.989886e-07</td>\n",
       "      <td>1.000000</td>\n",
       "      <td>5.067934e-07</td>\n",
       "      <td>1.525672e-06</td>\n",
       "      <td>9.999994e-01</td>\n",
       "      <td>...</td>\n",
       "      <td>1.803848e-05</td>\n",
       "      <td>4.970949e-08</td>\n",
       "      <td>5.830987e-06</td>\n",
       "      <td>1.000000</td>\n",
       "      <td>9.999998e-01</td>\n",
       "      <td>2.289729e-08</td>\n",
       "      <td>6.251568e-15</td>\n",
       "      <td>1.000000</td>\n",
       "      <td>4.774774e-07</td>\n",
       "      <td>1.000000</td>\n",
       "    </tr>\n",
       "    <tr>\n",
       "      <th>1</th>\n",
       "      <td>Image-2.jpg</td>\n",
       "      <td>3.859274e-02</td>\n",
       "      <td>1.683531e-01</td>\n",
       "      <td>3.854525e-05</td>\n",
       "      <td>5.453684e-01</td>\n",
       "      <td>7.770037e-03</td>\n",
       "      <td>0.982363</td>\n",
       "      <td>9.892535e-01</td>\n",
       "      <td>1.124911e-02</td>\n",
       "      <td>2.447692e-02</td>\n",
       "      <td>...</td>\n",
       "      <td>1.938736e-01</td>\n",
       "      <td>9.049323e-01</td>\n",
       "      <td>1.188473e-02</td>\n",
       "      <td>0.496242</td>\n",
       "      <td>2.778998e-02</td>\n",
       "      <td>1.835775e-03</td>\n",
       "      <td>2.441944e-02</td>\n",
       "      <td>0.201121</td>\n",
       "      <td>9.321152e-01</td>\n",
       "      <td>0.937876</td>\n",
       "    </tr>\n",
       "    <tr>\n",
       "      <th>2</th>\n",
       "      <td>Image-3.jpg</td>\n",
       "      <td>7.475208e-05</td>\n",
       "      <td>2.362567e-12</td>\n",
       "      <td>1.354042e-09</td>\n",
       "      <td>9.912577e-01</td>\n",
       "      <td>9.949375e-12</td>\n",
       "      <td>0.001659</td>\n",
       "      <td>9.999993e-01</td>\n",
       "      <td>1.262738e-06</td>\n",
       "      <td>2.000609e-06</td>\n",
       "      <td>...</td>\n",
       "      <td>9.969395e-01</td>\n",
       "      <td>2.197572e-04</td>\n",
       "      <td>9.235030e-05</td>\n",
       "      <td>0.993531</td>\n",
       "      <td>1.687343e-08</td>\n",
       "      <td>3.404775e-09</td>\n",
       "      <td>9.628648e-17</td>\n",
       "      <td>0.999336</td>\n",
       "      <td>1.177971e-06</td>\n",
       "      <td>1.000000</td>\n",
       "    </tr>\n",
       "    <tr>\n",
       "      <th>3</th>\n",
       "      <td>Image-4.jpg</td>\n",
       "      <td>9.980360e-01</td>\n",
       "      <td>9.867715e-05</td>\n",
       "      <td>1.000506e-01</td>\n",
       "      <td>9.525886e-01</td>\n",
       "      <td>4.838451e-04</td>\n",
       "      <td>0.782907</td>\n",
       "      <td>4.599632e-03</td>\n",
       "      <td>6.104806e-03</td>\n",
       "      <td>8.961533e-02</td>\n",
       "      <td>...</td>\n",
       "      <td>9.752880e-01</td>\n",
       "      <td>7.467472e-01</td>\n",
       "      <td>9.977804e-01</td>\n",
       "      <td>0.658075</td>\n",
       "      <td>6.259299e-03</td>\n",
       "      <td>2.788431e-01</td>\n",
       "      <td>1.800682e-11</td>\n",
       "      <td>0.955477</td>\n",
       "      <td>6.352916e-05</td>\n",
       "      <td>0.028090</td>\n",
       "    </tr>\n",
       "    <tr>\n",
       "      <th>4</th>\n",
       "      <td>Image-5.jpg</td>\n",
       "      <td>1.026996e-07</td>\n",
       "      <td>5.826743e-16</td>\n",
       "      <td>9.076603e-11</td>\n",
       "      <td>9.997582e-01</td>\n",
       "      <td>5.086981e-18</td>\n",
       "      <td>0.998061</td>\n",
       "      <td>1.178866e-04</td>\n",
       "      <td>3.078115e-11</td>\n",
       "      <td>3.938717e-07</td>\n",
       "      <td>...</td>\n",
       "      <td>5.284649e-07</td>\n",
       "      <td>1.205004e-13</td>\n",
       "      <td>4.613970e-08</td>\n",
       "      <td>1.000000</td>\n",
       "      <td>9.997498e-01</td>\n",
       "      <td>1.042505e-13</td>\n",
       "      <td>7.091864e-26</td>\n",
       "      <td>0.999998</td>\n",
       "      <td>8.108661e-13</td>\n",
       "      <td>0.000024</td>\n",
       "    </tr>\n",
       "  </tbody>\n",
       "</table>\n",
       "<p>5 rows × 86 columns</p>\n",
       "</div>"
      ],
      "text/plain": [
       "    Image_name     attrib_01     attrib_02     attrib_03     attrib_04  \\\n",
       "0  Image-1.jpg  1.031856e-05  8.196082e-07  1.444669e-11  8.404958e-07   \n",
       "1  Image-2.jpg  3.859274e-02  1.683531e-01  3.854525e-05  5.453684e-01   \n",
       "2  Image-3.jpg  7.475208e-05  2.362567e-12  1.354042e-09  9.912577e-01   \n",
       "3  Image-4.jpg  9.980360e-01  9.867715e-05  1.000506e-01  9.525886e-01   \n",
       "4  Image-5.jpg  1.026996e-07  5.826743e-16  9.076603e-11  9.997582e-01   \n",
       "\n",
       "      attrib_05  attrib_06     attrib_07     attrib_08     attrib_09  \\\n",
       "0  6.989886e-07   1.000000  5.067934e-07  1.525672e-06  9.999994e-01   \n",
       "1  7.770037e-03   0.982363  9.892535e-01  1.124911e-02  2.447692e-02   \n",
       "2  9.949375e-12   0.001659  9.999993e-01  1.262738e-06  2.000609e-06   \n",
       "3  4.838451e-04   0.782907  4.599632e-03  6.104806e-03  8.961533e-02   \n",
       "4  5.086981e-18   0.998061  1.178866e-04  3.078115e-11  3.938717e-07   \n",
       "\n",
       "     ...         attrib_76     attrib_77     attrib_78  attrib_79  \\\n",
       "0    ...      1.803848e-05  4.970949e-08  5.830987e-06   1.000000   \n",
       "1    ...      1.938736e-01  9.049323e-01  1.188473e-02   0.496242   \n",
       "2    ...      9.969395e-01  2.197572e-04  9.235030e-05   0.993531   \n",
       "3    ...      9.752880e-01  7.467472e-01  9.977804e-01   0.658075   \n",
       "4    ...      5.284649e-07  1.205004e-13  4.613970e-08   1.000000   \n",
       "\n",
       "      attrib_80     attrib_81     attrib_82  attrib_83     attrib_84  \\\n",
       "0  9.999998e-01  2.289729e-08  6.251568e-15   1.000000  4.774774e-07   \n",
       "1  2.778998e-02  1.835775e-03  2.441944e-02   0.201121  9.321152e-01   \n",
       "2  1.687343e-08  3.404775e-09  9.628648e-17   0.999336  1.177971e-06   \n",
       "3  6.259299e-03  2.788431e-01  1.800682e-11   0.955477  6.352916e-05   \n",
       "4  9.997498e-01  1.042505e-13  7.091864e-26   0.999998  8.108661e-13   \n",
       "\n",
       "   attrib_85  \n",
       "0   1.000000  \n",
       "1   0.937876  \n",
       "2   1.000000  \n",
       "3   0.028090  \n",
       "4   0.000024  \n",
       "\n",
       "[5 rows x 86 columns]"
      ]
     },
     "execution_count": 69,
     "metadata": {},
     "output_type": "execute_result"
    }
   ],
   "source": [
    "sam=pd.read_csv('./meta-data/sample_submission.csv')\n",
    "sam['Image_name']=test.Image_name\n",
    "sam.iloc[:,1:]=pred\n",
    "sam.head()"
   ]
  },
  {
   "cell_type": "code",
   "execution_count": 2,
   "metadata": {
    "ExecuteTime": {
     "end_time": "2018-04-23T19:46:42.434678Z",
     "start_time": "2018-04-23T19:46:42.191240Z"
    },
    "collapsed": true
   },
   "outputs": [],
   "source": [
    "sam=pd.read_csv('sub-xception-4-prob.csv')"
   ]
  },
  {
   "cell_type": "code",
   "execution_count": 6,
   "metadata": {
    "ExecuteTime": {
     "end_time": "2018-04-23T19:47:53.221183Z",
     "start_time": "2018-04-23T19:47:52.804408Z"
    },
    "collapsed": true,
    "deletable": true,
    "editable": true
   },
   "outputs": [],
   "source": [
    "temp=sam.copy()\n",
    "for i in sam.iloc[:,1:]:\n",
    "    temp[i]=sam[i].apply(lambda x: 1 if x>0.4 else 0)\n",
    "        "
   ]
  },
  {
   "cell_type": "code",
   "execution_count": 7,
   "metadata": {
    "ExecuteTime": {
     "end_time": "2018-04-23T19:47:57.443863Z",
     "start_time": "2018-04-23T19:47:57.382368Z"
    },
    "collapsed": false,
    "deletable": true,
    "editable": true
   },
   "outputs": [
    {
     "data": {
      "text/html": [
       "<div>\n",
       "<table border=\"1\" class=\"dataframe\">\n",
       "  <thead>\n",
       "    <tr style=\"text-align: right;\">\n",
       "      <th></th>\n",
       "      <th>Image_name</th>\n",
       "      <th>attrib_01</th>\n",
       "      <th>attrib_02</th>\n",
       "      <th>attrib_03</th>\n",
       "      <th>attrib_04</th>\n",
       "      <th>attrib_05</th>\n",
       "      <th>attrib_06</th>\n",
       "      <th>attrib_07</th>\n",
       "      <th>attrib_08</th>\n",
       "      <th>attrib_09</th>\n",
       "      <th>...</th>\n",
       "      <th>attrib_76</th>\n",
       "      <th>attrib_77</th>\n",
       "      <th>attrib_78</th>\n",
       "      <th>attrib_79</th>\n",
       "      <th>attrib_80</th>\n",
       "      <th>attrib_81</th>\n",
       "      <th>attrib_82</th>\n",
       "      <th>attrib_83</th>\n",
       "      <th>attrib_84</th>\n",
       "      <th>attrib_85</th>\n",
       "    </tr>\n",
       "  </thead>\n",
       "  <tbody>\n",
       "    <tr>\n",
       "      <th>0</th>\n",
       "      <td>Image-1.jpg</td>\n",
       "      <td>0</td>\n",
       "      <td>0</td>\n",
       "      <td>0</td>\n",
       "      <td>0</td>\n",
       "      <td>0</td>\n",
       "      <td>1</td>\n",
       "      <td>0</td>\n",
       "      <td>0</td>\n",
       "      <td>1</td>\n",
       "      <td>...</td>\n",
       "      <td>0</td>\n",
       "      <td>0</td>\n",
       "      <td>0</td>\n",
       "      <td>1</td>\n",
       "      <td>1</td>\n",
       "      <td>0</td>\n",
       "      <td>0</td>\n",
       "      <td>1</td>\n",
       "      <td>0</td>\n",
       "      <td>1</td>\n",
       "    </tr>\n",
       "    <tr>\n",
       "      <th>1</th>\n",
       "      <td>Image-2.jpg</td>\n",
       "      <td>0</td>\n",
       "      <td>0</td>\n",
       "      <td>0</td>\n",
       "      <td>1</td>\n",
       "      <td>0</td>\n",
       "      <td>1</td>\n",
       "      <td>1</td>\n",
       "      <td>0</td>\n",
       "      <td>0</td>\n",
       "      <td>...</td>\n",
       "      <td>0</td>\n",
       "      <td>1</td>\n",
       "      <td>0</td>\n",
       "      <td>1</td>\n",
       "      <td>0</td>\n",
       "      <td>0</td>\n",
       "      <td>0</td>\n",
       "      <td>0</td>\n",
       "      <td>1</td>\n",
       "      <td>1</td>\n",
       "    </tr>\n",
       "    <tr>\n",
       "      <th>2</th>\n",
       "      <td>Image-3.jpg</td>\n",
       "      <td>0</td>\n",
       "      <td>0</td>\n",
       "      <td>0</td>\n",
       "      <td>1</td>\n",
       "      <td>0</td>\n",
       "      <td>0</td>\n",
       "      <td>1</td>\n",
       "      <td>0</td>\n",
       "      <td>0</td>\n",
       "      <td>...</td>\n",
       "      <td>1</td>\n",
       "      <td>0</td>\n",
       "      <td>0</td>\n",
       "      <td>1</td>\n",
       "      <td>0</td>\n",
       "      <td>0</td>\n",
       "      <td>0</td>\n",
       "      <td>1</td>\n",
       "      <td>0</td>\n",
       "      <td>1</td>\n",
       "    </tr>\n",
       "    <tr>\n",
       "      <th>3</th>\n",
       "      <td>Image-4.jpg</td>\n",
       "      <td>1</td>\n",
       "      <td>0</td>\n",
       "      <td>0</td>\n",
       "      <td>1</td>\n",
       "      <td>0</td>\n",
       "      <td>1</td>\n",
       "      <td>0</td>\n",
       "      <td>0</td>\n",
       "      <td>0</td>\n",
       "      <td>...</td>\n",
       "      <td>1</td>\n",
       "      <td>1</td>\n",
       "      <td>1</td>\n",
       "      <td>1</td>\n",
       "      <td>0</td>\n",
       "      <td>0</td>\n",
       "      <td>0</td>\n",
       "      <td>1</td>\n",
       "      <td>0</td>\n",
       "      <td>0</td>\n",
       "    </tr>\n",
       "    <tr>\n",
       "      <th>4</th>\n",
       "      <td>Image-5.jpg</td>\n",
       "      <td>0</td>\n",
       "      <td>0</td>\n",
       "      <td>0</td>\n",
       "      <td>1</td>\n",
       "      <td>0</td>\n",
       "      <td>1</td>\n",
       "      <td>0</td>\n",
       "      <td>0</td>\n",
       "      <td>0</td>\n",
       "      <td>...</td>\n",
       "      <td>0</td>\n",
       "      <td>0</td>\n",
       "      <td>0</td>\n",
       "      <td>1</td>\n",
       "      <td>1</td>\n",
       "      <td>0</td>\n",
       "      <td>0</td>\n",
       "      <td>1</td>\n",
       "      <td>0</td>\n",
       "      <td>0</td>\n",
       "    </tr>\n",
       "  </tbody>\n",
       "</table>\n",
       "<p>5 rows × 86 columns</p>\n",
       "</div>"
      ],
      "text/plain": [
       "    Image_name  attrib_01  attrib_02  attrib_03  attrib_04  attrib_05  \\\n",
       "0  Image-1.jpg          0          0          0          0          0   \n",
       "1  Image-2.jpg          0          0          0          1          0   \n",
       "2  Image-3.jpg          0          0          0          1          0   \n",
       "3  Image-4.jpg          1          0          0          1          0   \n",
       "4  Image-5.jpg          0          0          0          1          0   \n",
       "\n",
       "   attrib_06  attrib_07  attrib_08  attrib_09    ...      attrib_76  \\\n",
       "0          1          0          0          1    ...              0   \n",
       "1          1          1          0          0    ...              0   \n",
       "2          0          1          0          0    ...              1   \n",
       "3          1          0          0          0    ...              1   \n",
       "4          1          0          0          0    ...              0   \n",
       "\n",
       "   attrib_77  attrib_78  attrib_79  attrib_80  attrib_81  attrib_82  \\\n",
       "0          0          0          1          1          0          0   \n",
       "1          1          0          1          0          0          0   \n",
       "2          0          0          1          0          0          0   \n",
       "3          1          1          1          0          0          0   \n",
       "4          0          0          1          1          0          0   \n",
       "\n",
       "   attrib_83  attrib_84  attrib_85  \n",
       "0          1          0          1  \n",
       "1          0          1          1  \n",
       "2          1          0          1  \n",
       "3          1          0          0  \n",
       "4          1          0          0  \n",
       "\n",
       "[5 rows x 86 columns]"
      ]
     },
     "execution_count": 7,
     "metadata": {},
     "output_type": "execute_result"
    }
   ],
   "source": [
    "temp.head()"
   ]
  },
  {
   "cell_type": "code",
   "execution_count": 73,
   "metadata": {
    "collapsed": true,
    "deletable": true,
    "editable": true
   },
   "outputs": [],
   "source": [
    "sam.to_csv('sub-xception-4-prob.csv',index=False)"
   ]
  },
  {
   "cell_type": "code",
   "execution_count": 8,
   "metadata": {
    "ExecuteTime": {
     "end_time": "2018-04-23T19:48:01.441309Z",
     "start_time": "2018-04-23T19:48:00.949003Z"
    },
    "collapsed": false,
    "deletable": true,
    "editable": true
   },
   "outputs": [
    {
     "data": {
      "text/plain": [
       "(5400, 86)"
      ]
     },
     "execution_count": 8,
     "metadata": {},
     "output_type": "execute_result"
    }
   ],
   "source": [
    "\n",
    "temp.to_csv('sub-xception-5.csv',index=False)\n",
    "temp.shape"
   ]
  }
 ],
 "metadata": {
  "anaconda-cloud": {},
  "kernelspec": {
   "display_name": "Python [default]",
   "language": "python",
   "name": "python3"
  },
  "language_info": {
   "codemirror_mode": {
    "name": "ipython",
    "version": 3
   },
   "file_extension": ".py",
   "mimetype": "text/x-python",
   "name": "python",
   "nbconvert_exporter": "python",
   "pygments_lexer": "ipython3",
   "version": "3.5.3"
  }
 },
 "nbformat": 4,
 "nbformat_minor": 2
}
