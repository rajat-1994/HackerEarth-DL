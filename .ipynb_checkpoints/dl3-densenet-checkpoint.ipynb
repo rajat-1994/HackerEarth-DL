{
 "cells": [
  {
   "cell_type": "markdown",
   "metadata": {},
   "source": [
    "## MULTI-LABEL IMAGE CLASSIFICATION WITH KERAS"
   ]
  },
  {
   "cell_type": "markdown",
   "metadata": {},
   "source": [
    "### LOADING LIBRARIES"
   ]
  },
  {
   "cell_type": "code",
   "execution_count": null,
   "metadata": {
    "scrolled": true
   },
   "outputs": [],
   "source": [
    "!pip install pillow\n",
    "!pip install sklearn"
   ]
  },
  {
   "cell_type": "code",
   "execution_count": null,
   "metadata": {
    "ExecuteTime": {
     "end_time": "2018-04-23T19:46:09.909799Z",
     "start_time": "2018-04-23T19:46:09.156371Z"
    },
    "scrolled": false
   },
   "outputs": [],
   "source": [
    "\n",
    "import PIL\n",
    "import PIL.Image\n",
    "from sklearn.utils import shuffle\n",
    "import pandas as pd"
   ]
  },
  {
   "cell_type": "code",
   "execution_count": null,
   "metadata": {},
   "outputs": [],
   "source": [
    "from keras import applications\n",
    "from keras.preprocessing.image import ImageDataGenerator\n",
    "from keras import optimizers\n",
    "from keras.models import Sequential, Model \n",
    "from keras.layers import Dropout, Flatten, Dense, GlobalAveragePooling2D\n",
    "from keras import backend as K\n",
    "from keras.callbacks import ModelCheckpoint, LearningRateScheduler, TensorBoard, EarlyStopping\n",
    "from keras.preprocessing import image\n",
    "from keras.utils.np_utils import to_categorical\n",
    "import numpy as np\n",
    "#from sklearn.preprocessing import LabelEncoder\n",
    "from keras.optimizers import Adam\n",
    "from keras.layers import Input, Dense, Convolution2D, MaxPooling2D, AveragePooling2D, ZeroPadding2D, Dropout, Flatten, merge, Reshape, Activation"
   ]
  },
  {
   "cell_type": "code",
   "execution_count": 3,
   "metadata": {},
   "outputs": [],
   "source": [
    "\n",
    "import glob,matplotlib as plt\n",
    "%matplotlib inline"
   ]
  },
  {
   "cell_type": "code",
   "execution_count": null,
   "metadata": {},
   "outputs": [],
   "source": [
    "#from keras.applications.vgg16 import VGG16, preprocess_input,decode_predictions"
   ]
  },
  {
   "cell_type": "code",
   "execution_count": 4,
   "metadata": {},
   "outputs": [],
   "source": [
    "from keras.applications.densenet import DenseNet201,preprocess_input, decode_predictions"
   ]
  },
  {
   "cell_type": "markdown",
   "metadata": {},
   "source": [
    "### LOADING DATA"
   ]
  },
  {
   "cell_type": "code",
   "execution_count": 5,
   "metadata": {},
   "outputs": [],
   "source": [
    "train=pd.read_csv('./meta-data/train.csv')\n",
    "test=pd.read_csv('./meta-data/test.csv')\n"
   ]
  },
  {
   "cell_type": "code",
   "execution_count": 6,
   "metadata": {},
   "outputs": [],
   "source": [
    "img_width, img_height = 224, 224"
   ]
  },
  {
   "cell_type": "code",
   "execution_count": 7,
   "metadata": {},
   "outputs": [
    {
     "data": {
      "text/plain": [
       "((12600, 86), (5400, 1))"
      ]
     },
     "execution_count": 7,
     "metadata": {},
     "output_type": "execute_result"
    }
   ],
   "source": [
    "train.shape,test.shape"
   ]
  },
  {
   "cell_type": "code",
   "execution_count": 8,
   "metadata": {},
   "outputs": [],
   "source": [
    "\n",
    "import cv2\n",
    "def read_image(img_path,H,W):\n",
    "    img = cv2.imread(img_path, cv2.IMREAD_COLOR)\n",
    "    #img = cv2.cvtColor(img, cv2.COLOR_BGR2RGB)\n",
    "    img = cv2.resize(img, (W,H)) \n",
    "    return img\n"
   ]
  },
  {
   "cell_type": "code",
   "execution_count": 9,
   "metadata": {},
   "outputs": [],
   "source": [
    "def save_model(model_final,filename):\n",
    "    # serialize model to JSON\n",
    "    from keras.models import model_from_json\n",
    "    model_json = model_final.to_json()\n",
    "    with open(filename+\".json\", \"w\") as json_file:\n",
    "        json_file.write(model_json)\n",
    "    # serialize weights to HDF5\n",
    "    model_final.save_weights(filename+\".h5\")\n",
    "    print(\"Saved model to disk\")\n",
    "    \n",
    "from keras.models import model_from_json\n",
    "# load json and create model\n",
    "def load_model(filename):\n",
    "    json_file = open(filename+'.json', 'r')\n",
    "    loaded_model_json = json_file.read()\n",
    "    json_file.close()\n",
    "    model_final = model_from_json(loaded_model_json)\n",
    "    # load weights into new model\n",
    "    model_final.load_weights(filename+\".h5\")\n",
    "    print(\"Loaded model from disk\")\n",
    "    return model_final"
   ]
  },
  {
   "cell_type": "code",
   "execution_count": 10,
   "metadata": {},
   "outputs": [
    {
     "data": {
      "text/plain": [
       "11"
      ]
     },
     "execution_count": 10,
     "metadata": {},
     "output_type": "execute_result"
    }
   ],
   "source": [
    "import gc\n",
    "gc.collect()"
   ]
  },
  {
   "cell_type": "code",
   "execution_count": 11,
   "metadata": {},
   "outputs": [
    {
     "name": "stdout",
     "output_type": "stream",
     "text": [
      "CPU times: user 3min 35s, sys: 3.8 s, total: 3min 39s\n",
      "Wall time: 3min 39s\n"
     ]
    }
   ],
   "source": [
    "%%time\n",
    "image_lr=[]\n",
    "train_img=[]\n",
    "for i in list(train.Image_name):\n",
    "    image_lr.append(read_image('./train_img/'+str(i),img_width, img_height))\n",
    "train_img=np.array(image_lr,dtype=np.float32)\n",
    "train_img=preprocess_input(train_img,data_format='channels_last')"
   ]
  },
  {
   "cell_type": "code",
   "execution_count": 12,
   "metadata": {},
   "outputs": [
    {
     "data": {
      "text/plain": [
       "(12600, 224, 224, 3)"
      ]
     },
     "execution_count": 12,
     "metadata": {},
     "output_type": "execute_result"
    }
   ],
   "source": [
    "train_img.shape#,test_img.shape"
   ]
  },
  {
   "cell_type": "code",
   "execution_count": 13,
   "metadata": {},
   "outputs": [
    {
     "data": {
      "text/plain": [
       "0"
      ]
     },
     "execution_count": 13,
     "metadata": {},
     "output_type": "execute_result"
    }
   ],
   "source": [
    "\n",
    "# Initiate the train and test generators with data Augumentation \n",
    "train_datagen = ImageDataGenerator(\n",
    "#rescale = 1./255,   \n",
    "horizontal_flip = True,\n",
    "zoom_range = 0.2,\n",
    "fill_mode=\"nearest\" ,   \n",
    "width_shift_range = 0.3,\n",
    "height_shift_range=0.3,\n",
    "rotation_range=30)\n",
    "\n",
    "'''\n",
    "test_datagen = ImageDataGenerator(\n",
    "#rescale = 1./255,\n",
    "horizontal_flip = True,\n",
    "zoom_range = 0.2,\n",
    "width_shift_range = 0.2,\n",
    "height_shift_range=0.2,\n",
    "rotation_range=20)\n",
    "'''\n",
    "gc.collect()\n"
   ]
  },
  {
   "cell_type": "code",
   "execution_count": 14,
   "metadata": {},
   "outputs": [
    {
     "data": {
      "text/plain": [
       "(12600, 85)"
      ]
     },
     "execution_count": 14,
     "metadata": {},
     "output_type": "execute_result"
    }
   ],
   "source": [
    "Y=train.iloc[:,1:]\n",
    "Y.shape"
   ]
  },
  {
   "cell_type": "code",
   "execution_count": null,
   "metadata": {},
   "outputs": [],
   "source": [
    "'''\n",
    "l=int(train.shape[0]-(0.1*train.shape[0]))\n",
    "l\n",
    "x_train=train_img[:l,:,:,:]\n",
    "y_train=Y[:l]\n",
    "x_valid=train_img[l:,:,:,:]\n",
    "y_valid=Y[l:]\n",
    "x_train.shape,y_train.shape,x_valid.shape,y_valid.shape\n",
    "'''"
   ]
  },
  {
   "cell_type": "code",
   "execution_count": 15,
   "metadata": {},
   "outputs": [],
   "source": [
    "batch_size=256"
   ]
  },
  {
   "cell_type": "code",
   "execution_count": 16,
   "metadata": {},
   "outputs": [
    {
     "data": {
      "text/plain": [
       "'\\nvalidation_generator = test_datagen.flow(x_valid,y_valid,\\n                                         batch_size = batch_size,\\n                                        shuffle=True)\\n                                        #class_mode = \"categorical\")\\n\\n'"
      ]
     },
     "execution_count": 16,
     "metadata": {},
     "output_type": "execute_result"
    }
   ],
   "source": [
    "\n",
    "\n",
    "train_generator = train_datagen.flow(train_img,Y,\n",
    "                                    batch_size = batch_size,\n",
    "                                    shuffle=True)\n",
    "                                    #class_mode = \"categorical\")\n",
    "    \n",
    "'''\n",
    "validation_generator = test_datagen.flow(x_valid,y_valid,\n",
    "                                         batch_size = batch_size,\n",
    "                                        shuffle=True)\n",
    "                                        #class_mode = \"categorical\")\n",
    "\n",
    "'''"
   ]
  },
  {
   "cell_type": "code",
   "execution_count": 17,
   "metadata": {},
   "outputs": [
    {
     "name": "stdout",
     "output_type": "stream",
     "text": [
      "Downloading data from https://github.com/fchollet/deep-learning-models/releases/download/v0.8/densenet201_weights_tf_dim_ordering_tf_kernels_notop.h5\n",
      "76398592/76391848 [==============================] - 2s 0us/step\n"
     ]
    }
   ],
   "source": [
    "model =  DenseNet201(weights = \"imagenet\", include_top=False, input_shape = (img_width, img_height, 3))"
   ]
  },
  {
   "cell_type": "code",
   "execution_count": 18,
   "metadata": {},
   "outputs": [],
   "source": [
    "# Freeze the layers which you don't want to train. Here I am freezing the first 5 layers.\n",
    "for layer in model.layers:\n",
    "    layer.trainable = False"
   ]
  },
  {
   "cell_type": "code",
   "execution_count": 19,
   "metadata": {},
   "outputs": [
    {
     "name": "stderr",
     "output_type": "stream",
     "text": [
      "/home/ubuntu/anaconda3/envs/tensorflow_p36/lib/python3.6/site-packages/ipykernel_launcher.py:12: UserWarning: Update your `Model` call to the Keras 2 API: `Model(inputs=Tensor(\"in..., outputs=Tensor(\"de...)`\n",
      "  if sys.path[0] == '':\n"
     ]
    }
   ],
   "source": [
    "\n",
    "\n",
    "#Adding custom Layers \n",
    "x = model.output\n",
    "x = GlobalAveragePooling2D()(x)\n",
    "x = Dense(512, activation=\"relu\")(x)\n",
    "x = Dropout(0.2)(x)\n",
    "x = Dense(128, activation=\"relu\")(x)\n",
    "predictions = Dense(85, activation=\"sigmoid\")(x)\n",
    "\n",
    "# creating the final model \n",
    "model_final = Model(input = model.input, output = predictions)\n"
   ]
  },
  {
   "cell_type": "code",
   "execution_count": 20,
   "metadata": {},
   "outputs": [],
   "source": [
    "def fbeta(y_true, y_pred, threshold_shift=0):\n",
    "    beta = 1\n",
    "\n",
    "    # just in case of hipster activation at the final layer\n",
    "    y_pred = K.clip(y_pred, 0, 1)\n",
    "\n",
    "    # shifting the prediction threshold from .5 if needed\n",
    "    y_pred_bin = K.round(y_pred + threshold_shift)\n",
    "\n",
    "    tp = K.sum(K.round(y_true * y_pred_bin)) + K.epsilon()\n",
    "    fp = K.sum(K.round(K.clip(y_pred_bin - y_true, 0, 1)))\n",
    "    fn = K.sum(K.round(K.clip(y_true - y_pred, 0, 1)))\n",
    "\n",
    "    precision = tp / (tp + fp)\n",
    "    recall = tp / (tp + fn)\n",
    "\n",
    "    beta_squared = beta ** 2\n",
    "    return (beta_squared + 1) * (precision * recall) / (beta_squared * precision + recall + K.epsilon())"
   ]
  },
  {
   "cell_type": "code",
   "execution_count": 21,
   "metadata": {},
   "outputs": [],
   "source": [
    "adam = Adam(lr=1e-2)\n",
    "model_final.compile(optimizer=adam, loss='binary_crossentropy', metrics=[fbeta])"
   ]
  },
  {
   "cell_type": "code",
   "execution_count": 22,
   "metadata": {},
   "outputs": [
    {
     "name": "stdout",
     "output_type": "stream",
     "text": [
      "Epoch 1/5\n",
      "49/49 [==============================] - 154s 3s/step - loss: 0.3429 - fbeta: 0.7788\n",
      "Epoch 2/5\n",
      "49/49 [==============================] - 149s 3s/step - loss: 0.1739 - fbeta: 0.8994\n",
      "Epoch 3/5\n",
      "49/49 [==============================] - 149s 3s/step - loss: 0.1418 - fbeta: 0.9194\n",
      "Epoch 4/5\n",
      "49/49 [==============================] - 149s 3s/step - loss: 0.1231 - fbeta: 0.9315\n",
      "Epoch 5/5\n",
      "49/49 [==============================] - 147s 3s/step - loss: 0.1155 - fbeta: 0.9363\n"
     ]
    },
    {
     "data": {
      "text/plain": [
       "<keras.callbacks.History at 0x7f191292cb70>"
      ]
     },
     "execution_count": 22,
     "metadata": {},
     "output_type": "execute_result"
    }
   ],
   "source": [
    "#validation_data=validation_generator, validation_steps=x_valid.shape[0]//batch_size, \n",
    "model_final.fit_generator(train_generator, steps_per_epoch=train_img.shape[0]//batch_size, epochs=5,shuffle=True)"
   ]
  },
  {
   "cell_type": "code",
   "execution_count": 24,
   "metadata": {},
   "outputs": [
    {
     "name": "stdout",
     "output_type": "stream",
     "text": [
      "Epoch 1/2\n",
      "49/49 [==============================] - 152s 3s/step - loss: 0.1002 - fbeta: 0.9464\n",
      "Epoch 2/2\n",
      "49/49 [==============================] - 149s 3s/step - loss: 0.0945 - fbeta: 0.9492\n"
     ]
    },
    {
     "data": {
      "text/plain": [
       "<keras.callbacks.History at 0x7f19083a1240>"
      ]
     },
     "execution_count": 24,
     "metadata": {},
     "output_type": "execute_result"
    }
   ],
   "source": [
    "# Train the model \n",
    "K.set_value(adam.lr,1e-3)\n",
    "model_final.fit_generator( train_generator, steps_per_epoch=train_img.shape[0]//batch_size, epochs=2,\n",
    "                          shuffle=True)\n",
    "#model_final.fit(train_img, Y,batch_size=256,epochs=3,shuffle=True,verbose=1)"
   ]
  },
  {
   "cell_type": "code",
   "execution_count": 26,
   "metadata": {},
   "outputs": [
    {
     "name": "stdout",
     "output_type": "stream",
     "text": [
      "Epoch 1/2\n",
      "49/49 [==============================] - 150s 3s/step - loss: 0.0924 - fbeta: 0.9501\n",
      "Epoch 2/2\n",
      "49/49 [==============================] - 152s 3s/step - loss: 0.0872 - fbeta: 0.9529\n"
     ]
    },
    {
     "data": {
      "text/plain": [
       "<keras.callbacks.History at 0x7f19083a1550>"
      ]
     },
     "execution_count": 26,
     "metadata": {},
     "output_type": "execute_result"
    }
   ],
   "source": [
    "K.set_value(adam.lr,1e-3)\n",
    "model_final.fit_generator( train_generator, steps_per_epoch=train_img.shape[0]//batch_size, epochs=2,\n",
    "                          shuffle=True)"
   ]
  },
  {
   "cell_type": "code",
   "execution_count": 29,
   "metadata": {
    "scrolled": false
   },
   "outputs": [
    {
     "data": {
      "text/plain": [
       "'\\nfor i,l in enumerate(model_final.layers):\\n    print(i,l)\\n\\n'"
      ]
     },
     "execution_count": 29,
     "metadata": {},
     "output_type": "execute_result"
    }
   ],
   "source": [
    "'''\n",
    "for i,l in enumerate(model_final.layers):\n",
    "    print(i,l)\n",
    "\n",
    "'''"
   ]
  },
  {
   "cell_type": "code",
   "execution_count": 30,
   "metadata": {},
   "outputs": [],
   "source": [
    "# Freeze the layers which you don't want to train. Here I am freezing the first 5 layers.\n",
    "for layer in model_final.layers[:686]:\n",
    "    layer.trainable = False\n",
    "for layer in model_final.layers[686:]:\n",
    "    layer.trainable = True"
   ]
  },
  {
   "cell_type": "code",
   "execution_count": 31,
   "metadata": {},
   "outputs": [
    {
     "name": "stdout",
     "output_type": "stream",
     "text": [
      "Epoch 1/3\n",
      "49/49 [==============================] - 150s 3s/step - loss: 0.0899 - fbeta: 0.9517\n",
      "Epoch 2/3\n",
      "49/49 [==============================] - 150s 3s/step - loss: 0.0832 - fbeta: 0.9553\n",
      "Epoch 3/3\n",
      "49/49 [==============================] - 149s 3s/step - loss: 0.0779 - fbeta: 0.9578\n"
     ]
    },
    {
     "data": {
      "text/plain": [
       "<keras.callbacks.History at 0x7f19128a6ef0>"
      ]
     },
     "execution_count": 31,
     "metadata": {},
     "output_type": "execute_result"
    }
   ],
   "source": [
    "adam = Adam(lr=1e-3)\n",
    "model_final.compile(optimizer=adam, loss='binary_crossentropy', metrics=[fbeta])\n",
    "model_final.fit_generator( train_generator, steps_per_epoch=train_img.shape[0]//batch_size, epochs=3,\n",
    "                          shuffle=True)"
   ]
  },
  {
   "cell_type": "code",
   "execution_count": 33,
   "metadata": {},
   "outputs": [
    {
     "name": "stdout",
     "output_type": "stream",
     "text": [
      "Epoch 1/5\n",
      "49/49 [==============================] - 150s 3s/step - loss: 0.0729 - fbeta: 0.9613\n",
      "Epoch 2/5\n",
      "49/49 [==============================] - 147s 3s/step - loss: 0.0737 - fbeta: 0.9605\n",
      "Epoch 3/5\n",
      "49/49 [==============================] - 148s 3s/step - loss: 0.0680 - fbeta: 0.9633\n",
      "Epoch 4/5\n",
      "49/49 [==============================] - 151s 3s/step - loss: 0.0650 - fbeta: 0.9657\n",
      "Epoch 5/5\n",
      "49/49 [==============================] - 150s 3s/step - loss: 0.0640 - fbeta: 0.9661\n"
     ]
    },
    {
     "data": {
      "text/plain": [
       "<keras.callbacks.History at 0x7f1909542160>"
      ]
     },
     "execution_count": 33,
     "metadata": {},
     "output_type": "execute_result"
    }
   ],
   "source": [
    "K.set_value(adam.lr,1e-3)\n",
    "model_final.fit_generator( train_generator, steps_per_epoch=train_img.shape[0]//batch_size, epochs=5,\n",
    "                          shuffle=True)"
   ]
  },
  {
   "cell_type": "code",
   "execution_count": 37,
   "metadata": {},
   "outputs": [
    {
     "name": "stdout",
     "output_type": "stream",
     "text": [
      "Epoch 1/3\n",
      "49/49 [==============================] - 155s 3s/step - loss: 0.0548 - fbeta: 0.9712\n",
      "Epoch 2/3\n",
      "49/49 [==============================] - 148s 3s/step - loss: 0.0529 - fbeta: 0.9716\n",
      "Epoch 3/3\n",
      "49/49 [==============================] - 151s 3s/step - loss: 0.0527 - fbeta: 0.9721\n"
     ]
    },
    {
     "data": {
      "text/plain": [
       "<keras.callbacks.History at 0x7f1909546f28>"
      ]
     },
     "execution_count": 37,
     "metadata": {},
     "output_type": "execute_result"
    }
   ],
   "source": [
    "K.set_value(adam.lr,1e-4)\n",
    "model_final.fit_generator( train_generator, steps_per_epoch=train_img.shape[0]//batch_size, epochs=5,\n",
    "                          shuffle=True)"
   ]
  },
  {
   "cell_type": "code",
   "execution_count": 41,
   "metadata": {},
   "outputs": [
    {
     "name": "stdout",
     "output_type": "stream",
     "text": [
      "Saved model to disk\n"
     ]
    }
   ],
   "source": [
    "save_model(model_final,'dl3-densenet')"
   ]
  },
  {
   "cell_type": "markdown",
   "metadata": {},
   "source": [
    "### PREDICTIONG / SUBMISSION"
   ]
  },
  {
   "cell_type": "markdown",
   "metadata": {},
   "source": [
    "##### LOAD MODEL AND WEIGHTS"
   ]
  },
  {
   "cell_type": "code",
   "execution_count": 42,
   "metadata": {},
   "outputs": [
    {
     "data": {
      "text/plain": [
       "0"
      ]
     },
     "execution_count": 42,
     "metadata": {},
     "output_type": "execute_result"
    }
   ],
   "source": [
    "gc.collect()"
   ]
  },
  {
   "cell_type": "code",
   "execution_count": 43,
   "metadata": {},
   "outputs": [
    {
     "name": "stdout",
     "output_type": "stream",
     "text": [
      "CPU times: user 1min 32s, sys: 1.3 s, total: 1min 33s\n",
      "Wall time: 1min 33s\n"
     ]
    }
   ],
   "source": [
    "%%time\n",
    "image_lr=[]\n",
    "test_img=[]\n",
    "for i in list(test.Image_name):\n",
    "    image_lr.append(read_image('./test_img/'+str(i),224,224))\n",
    "test_img=np.array(image_lr,dtype=np.float32)\n",
    "test_img=preprocess_input(test_img,data_format='channels_last')"
   ]
  },
  {
   "cell_type": "code",
   "execution_count": null,
   "metadata": {},
   "outputs": [],
   "source": [
    "#model_final=load_model('./weights/dl3-1')\n",
    "#batch_size=256"
   ]
  },
  {
   "cell_type": "code",
   "execution_count": null,
   "metadata": {},
   "outputs": [],
   "source": [
    "'''\n",
    "test_datagen = ImageDataGenerator(\n",
    "#rescale = 1./255,\n",
    "horizontal_flip = True,\n",
    "zoom_range = 0.2,\n",
    "width_shift_range = 0.2,\n",
    "height_shift_range=0.2,\n",
    "rotation_range=20)\n",
    "'''"
   ]
  },
  {
   "cell_type": "code",
   "execution_count": 56,
   "metadata": {},
   "outputs": [
    {
     "name": "stdout",
     "output_type": "stream",
     "text": [
      "5400/5400 [==============================] - 84s 15ms/step\n"
     ]
    }
   ],
   "source": [
    "#test_generator = test_datagen.flow(test_img,batch_size = batch_size,shuffle=True)                                      \n",
    "#pred=model_final.predict_generator(test_generator,verbose=1)\n",
    "pred=model_final.predict(test_img,batch_size,verbose=1)\n"
   ]
  },
  {
   "cell_type": "code",
   "execution_count": 57,
   "metadata": {},
   "outputs": [
    {
     "data": {
      "text/plain": [
       "((5400, 1), (5400, 224, 224, 3))"
      ]
     },
     "execution_count": 57,
     "metadata": {},
     "output_type": "execute_result"
    }
   ],
   "source": [
    "test.shape,test_img.shape"
   ]
  },
  {
   "cell_type": "code",
   "execution_count": 58,
   "metadata": {},
   "outputs": [
    {
     "data": {
      "text/plain": [
       "(5400, 85)"
      ]
     },
     "execution_count": 58,
     "metadata": {},
     "output_type": "execute_result"
    }
   ],
   "source": [
    "pred.shape"
   ]
  },
  {
   "cell_type": "code",
   "execution_count": 59,
   "metadata": {},
   "outputs": [
    {
     "data": {
      "text/html": [
       "<div>\n",
       "<style scoped>\n",
       "    .dataframe tbody tr th:only-of-type {\n",
       "        vertical-align: middle;\n",
       "    }\n",
       "\n",
       "    .dataframe tbody tr th {\n",
       "        vertical-align: top;\n",
       "    }\n",
       "\n",
       "    .dataframe thead th {\n",
       "        text-align: right;\n",
       "    }\n",
       "</style>\n",
       "<table border=\"1\" class=\"dataframe\">\n",
       "  <thead>\n",
       "    <tr style=\"text-align: right;\">\n",
       "      <th></th>\n",
       "      <th>Image_name</th>\n",
       "      <th>attrib_01</th>\n",
       "      <th>attrib_02</th>\n",
       "      <th>attrib_03</th>\n",
       "      <th>attrib_04</th>\n",
       "      <th>attrib_05</th>\n",
       "      <th>attrib_06</th>\n",
       "      <th>attrib_07</th>\n",
       "      <th>attrib_08</th>\n",
       "      <th>attrib_09</th>\n",
       "      <th>...</th>\n",
       "      <th>attrib_76</th>\n",
       "      <th>attrib_77</th>\n",
       "      <th>attrib_78</th>\n",
       "      <th>attrib_79</th>\n",
       "      <th>attrib_80</th>\n",
       "      <th>attrib_81</th>\n",
       "      <th>attrib_82</th>\n",
       "      <th>attrib_83</th>\n",
       "      <th>attrib_84</th>\n",
       "      <th>attrib_85</th>\n",
       "    </tr>\n",
       "  </thead>\n",
       "  <tbody>\n",
       "    <tr>\n",
       "      <th>0</th>\n",
       "      <td>Image-1.jpg</td>\n",
       "      <td>1.094444e-07</td>\n",
       "      <td>1.591067e-12</td>\n",
       "      <td>1.244173e-12</td>\n",
       "      <td>1.525196e-07</td>\n",
       "      <td>1.093585e-10</td>\n",
       "      <td>0.999998</td>\n",
       "      <td>6.114027e-07</td>\n",
       "      <td>3.807507e-12</td>\n",
       "      <td>9.999999e-01</td>\n",
       "      <td>...</td>\n",
       "      <td>2.360347e-07</td>\n",
       "      <td>1.346426e-13</td>\n",
       "      <td>1.894870e-08</td>\n",
       "      <td>1.000000</td>\n",
       "      <td>9.999979e-01</td>\n",
       "      <td>1.195337e-09</td>\n",
       "      <td>1.284207e-22</td>\n",
       "      <td>1.000000</td>\n",
       "      <td>2.283399e-14</td>\n",
       "      <td>0.999995</td>\n",
       "    </tr>\n",
       "    <tr>\n",
       "      <th>1</th>\n",
       "      <td>Image-2.jpg</td>\n",
       "      <td>2.754761e-02</td>\n",
       "      <td>2.246699e-02</td>\n",
       "      <td>2.175536e-07</td>\n",
       "      <td>9.509719e-01</td>\n",
       "      <td>1.488121e-03</td>\n",
       "      <td>0.997597</td>\n",
       "      <td>9.969919e-01</td>\n",
       "      <td>1.109599e-04</td>\n",
       "      <td>7.082193e-02</td>\n",
       "      <td>...</td>\n",
       "      <td>3.171766e-03</td>\n",
       "      <td>9.986461e-01</td>\n",
       "      <td>3.669546e-04</td>\n",
       "      <td>0.996574</td>\n",
       "      <td>3.246138e-02</td>\n",
       "      <td>3.058700e-06</td>\n",
       "      <td>1.719193e-05</td>\n",
       "      <td>0.031845</td>\n",
       "      <td>9.989973e-01</td>\n",
       "      <td>0.998435</td>\n",
       "    </tr>\n",
       "    <tr>\n",
       "      <th>2</th>\n",
       "      <td>Image-3.jpg</td>\n",
       "      <td>3.537128e-04</td>\n",
       "      <td>7.046590e-10</td>\n",
       "      <td>1.081928e-08</td>\n",
       "      <td>9.999542e-01</td>\n",
       "      <td>3.449667e-11</td>\n",
       "      <td>0.000033</td>\n",
       "      <td>9.999998e-01</td>\n",
       "      <td>1.788751e-04</td>\n",
       "      <td>1.471473e-07</td>\n",
       "      <td>...</td>\n",
       "      <td>9.999621e-01</td>\n",
       "      <td>2.054858e-04</td>\n",
       "      <td>1.241960e-04</td>\n",
       "      <td>0.999860</td>\n",
       "      <td>1.868941e-08</td>\n",
       "      <td>1.285113e-08</td>\n",
       "      <td>3.560143e-14</td>\n",
       "      <td>0.999999</td>\n",
       "      <td>1.390697e-08</td>\n",
       "      <td>0.999999</td>\n",
       "    </tr>\n",
       "    <tr>\n",
       "      <th>3</th>\n",
       "      <td>Image-4.jpg</td>\n",
       "      <td>9.999188e-01</td>\n",
       "      <td>8.380170e-05</td>\n",
       "      <td>9.719678e-04</td>\n",
       "      <td>8.691250e-02</td>\n",
       "      <td>9.976994e-01</td>\n",
       "      <td>0.975417</td>\n",
       "      <td>9.731169e-01</td>\n",
       "      <td>2.577786e-07</td>\n",
       "      <td>1.858254e-04</td>\n",
       "      <td>...</td>\n",
       "      <td>9.577435e-02</td>\n",
       "      <td>9.997635e-01</td>\n",
       "      <td>9.991676e-01</td>\n",
       "      <td>0.997518</td>\n",
       "      <td>1.132922e-05</td>\n",
       "      <td>3.245354e-04</td>\n",
       "      <td>1.597107e-06</td>\n",
       "      <td>0.008345</td>\n",
       "      <td>3.486144e-04</td>\n",
       "      <td>0.928228</td>\n",
       "    </tr>\n",
       "    <tr>\n",
       "      <th>4</th>\n",
       "      <td>Image-5.jpg</td>\n",
       "      <td>4.883778e-10</td>\n",
       "      <td>2.134624e-13</td>\n",
       "      <td>5.322069e-10</td>\n",
       "      <td>9.990891e-01</td>\n",
       "      <td>1.750810e-10</td>\n",
       "      <td>0.999513</td>\n",
       "      <td>1.715008e-02</td>\n",
       "      <td>3.167303e-14</td>\n",
       "      <td>1.146763e-08</td>\n",
       "      <td>...</td>\n",
       "      <td>2.373168e-06</td>\n",
       "      <td>7.538576e-14</td>\n",
       "      <td>3.353618e-10</td>\n",
       "      <td>0.999999</td>\n",
       "      <td>9.570119e-01</td>\n",
       "      <td>2.828269e-12</td>\n",
       "      <td>2.637620e-19</td>\n",
       "      <td>0.999994</td>\n",
       "      <td>6.505887e-11</td>\n",
       "      <td>0.016051</td>\n",
       "    </tr>\n",
       "  </tbody>\n",
       "</table>\n",
       "<p>5 rows × 86 columns</p>\n",
       "</div>"
      ],
      "text/plain": [
       "    Image_name     attrib_01     attrib_02     attrib_03     attrib_04  \\\n",
       "0  Image-1.jpg  1.094444e-07  1.591067e-12  1.244173e-12  1.525196e-07   \n",
       "1  Image-2.jpg  2.754761e-02  2.246699e-02  2.175536e-07  9.509719e-01   \n",
       "2  Image-3.jpg  3.537128e-04  7.046590e-10  1.081928e-08  9.999542e-01   \n",
       "3  Image-4.jpg  9.999188e-01  8.380170e-05  9.719678e-04  8.691250e-02   \n",
       "4  Image-5.jpg  4.883778e-10  2.134624e-13  5.322069e-10  9.990891e-01   \n",
       "\n",
       "      attrib_05  attrib_06     attrib_07     attrib_08     attrib_09  \\\n",
       "0  1.093585e-10   0.999998  6.114027e-07  3.807507e-12  9.999999e-01   \n",
       "1  1.488121e-03   0.997597  9.969919e-01  1.109599e-04  7.082193e-02   \n",
       "2  3.449667e-11   0.000033  9.999998e-01  1.788751e-04  1.471473e-07   \n",
       "3  9.976994e-01   0.975417  9.731169e-01  2.577786e-07  1.858254e-04   \n",
       "4  1.750810e-10   0.999513  1.715008e-02  3.167303e-14  1.146763e-08   \n",
       "\n",
       "     ...         attrib_76     attrib_77     attrib_78  attrib_79  \\\n",
       "0    ...      2.360347e-07  1.346426e-13  1.894870e-08   1.000000   \n",
       "1    ...      3.171766e-03  9.986461e-01  3.669546e-04   0.996574   \n",
       "2    ...      9.999621e-01  2.054858e-04  1.241960e-04   0.999860   \n",
       "3    ...      9.577435e-02  9.997635e-01  9.991676e-01   0.997518   \n",
       "4    ...      2.373168e-06  7.538576e-14  3.353618e-10   0.999999   \n",
       "\n",
       "      attrib_80     attrib_81     attrib_82  attrib_83     attrib_84  \\\n",
       "0  9.999979e-01  1.195337e-09  1.284207e-22   1.000000  2.283399e-14   \n",
       "1  3.246138e-02  3.058700e-06  1.719193e-05   0.031845  9.989973e-01   \n",
       "2  1.868941e-08  1.285113e-08  3.560143e-14   0.999999  1.390697e-08   \n",
       "3  1.132922e-05  3.245354e-04  1.597107e-06   0.008345  3.486144e-04   \n",
       "4  9.570119e-01  2.828269e-12  2.637620e-19   0.999994  6.505887e-11   \n",
       "\n",
       "   attrib_85  \n",
       "0   0.999995  \n",
       "1   0.998435  \n",
       "2   0.999999  \n",
       "3   0.928228  \n",
       "4   0.016051  \n",
       "\n",
       "[5 rows x 86 columns]"
      ]
     },
     "execution_count": 59,
     "metadata": {},
     "output_type": "execute_result"
    }
   ],
   "source": [
    "sam=pd.read_csv('./meta-data/sample_submission.csv')\n",
    "sam['Image_name']=test.Image_name\n",
    "sam.iloc[:,1:]=pred\n",
    "sam.head()"
   ]
  },
  {
   "cell_type": "code",
   "execution_count": null,
   "metadata": {
    "ExecuteTime": {
     "end_time": "2018-04-23T19:46:42.434678Z",
     "start_time": "2018-04-23T19:46:42.191240Z"
    }
   },
   "outputs": [],
   "source": [
    "#sam=pd.read_csv('sub-densenet-prob.csv')"
   ]
  },
  {
   "cell_type": "code",
   "execution_count": 60,
   "metadata": {
    "ExecuteTime": {
     "end_time": "2018-04-23T19:47:53.221183Z",
     "start_time": "2018-04-23T19:47:52.804408Z"
    }
   },
   "outputs": [],
   "source": [
    "temp=sam.copy()\n",
    "for i in sam.iloc[:,1:]:\n",
    "    temp[i]=sam[i].apply(lambda x: 1 if x>0.5 else 0)\n",
    "        "
   ]
  },
  {
   "cell_type": "code",
   "execution_count": 68,
   "metadata": {
    "ExecuteTime": {
     "end_time": "2018-04-23T19:47:57.443863Z",
     "start_time": "2018-04-23T19:47:57.382368Z"
    }
   },
   "outputs": [
    {
     "data": {
      "text/html": [
       "<div>\n",
       "<style scoped>\n",
       "    .dataframe tbody tr th:only-of-type {\n",
       "        vertical-align: middle;\n",
       "    }\n",
       "\n",
       "    .dataframe tbody tr th {\n",
       "        vertical-align: top;\n",
       "    }\n",
       "\n",
       "    .dataframe thead th {\n",
       "        text-align: right;\n",
       "    }\n",
       "</style>\n",
       "<table border=\"1\" class=\"dataframe\">\n",
       "  <thead>\n",
       "    <tr style=\"text-align: right;\">\n",
       "      <th></th>\n",
       "      <th>Image_name</th>\n",
       "      <th>attrib_01</th>\n",
       "      <th>attrib_02</th>\n",
       "      <th>attrib_03</th>\n",
       "      <th>attrib_04</th>\n",
       "      <th>attrib_05</th>\n",
       "      <th>attrib_06</th>\n",
       "      <th>attrib_07</th>\n",
       "      <th>attrib_08</th>\n",
       "      <th>attrib_09</th>\n",
       "      <th>...</th>\n",
       "      <th>attrib_76</th>\n",
       "      <th>attrib_77</th>\n",
       "      <th>attrib_78</th>\n",
       "      <th>attrib_79</th>\n",
       "      <th>attrib_80</th>\n",
       "      <th>attrib_81</th>\n",
       "      <th>attrib_82</th>\n",
       "      <th>attrib_83</th>\n",
       "      <th>attrib_84</th>\n",
       "      <th>attrib_85</th>\n",
       "    </tr>\n",
       "  </thead>\n",
       "  <tbody>\n",
       "    <tr>\n",
       "      <th>0</th>\n",
       "      <td>Image-1.jpg</td>\n",
       "      <td>0</td>\n",
       "      <td>0</td>\n",
       "      <td>0</td>\n",
       "      <td>0</td>\n",
       "      <td>0</td>\n",
       "      <td>1</td>\n",
       "      <td>0</td>\n",
       "      <td>0</td>\n",
       "      <td>1</td>\n",
       "      <td>...</td>\n",
       "      <td>0</td>\n",
       "      <td>0</td>\n",
       "      <td>0</td>\n",
       "      <td>1</td>\n",
       "      <td>1</td>\n",
       "      <td>0</td>\n",
       "      <td>0</td>\n",
       "      <td>1</td>\n",
       "      <td>0</td>\n",
       "      <td>1</td>\n",
       "    </tr>\n",
       "    <tr>\n",
       "      <th>1</th>\n",
       "      <td>Image-2.jpg</td>\n",
       "      <td>0</td>\n",
       "      <td>0</td>\n",
       "      <td>0</td>\n",
       "      <td>1</td>\n",
       "      <td>0</td>\n",
       "      <td>1</td>\n",
       "      <td>1</td>\n",
       "      <td>0</td>\n",
       "      <td>0</td>\n",
       "      <td>...</td>\n",
       "      <td>0</td>\n",
       "      <td>1</td>\n",
       "      <td>0</td>\n",
       "      <td>1</td>\n",
       "      <td>0</td>\n",
       "      <td>0</td>\n",
       "      <td>0</td>\n",
       "      <td>0</td>\n",
       "      <td>1</td>\n",
       "      <td>1</td>\n",
       "    </tr>\n",
       "    <tr>\n",
       "      <th>2</th>\n",
       "      <td>Image-3.jpg</td>\n",
       "      <td>0</td>\n",
       "      <td>0</td>\n",
       "      <td>0</td>\n",
       "      <td>1</td>\n",
       "      <td>0</td>\n",
       "      <td>0</td>\n",
       "      <td>1</td>\n",
       "      <td>0</td>\n",
       "      <td>0</td>\n",
       "      <td>...</td>\n",
       "      <td>1</td>\n",
       "      <td>0</td>\n",
       "      <td>0</td>\n",
       "      <td>1</td>\n",
       "      <td>0</td>\n",
       "      <td>0</td>\n",
       "      <td>0</td>\n",
       "      <td>1</td>\n",
       "      <td>0</td>\n",
       "      <td>1</td>\n",
       "    </tr>\n",
       "    <tr>\n",
       "      <th>3</th>\n",
       "      <td>Image-4.jpg</td>\n",
       "      <td>1</td>\n",
       "      <td>0</td>\n",
       "      <td>0</td>\n",
       "      <td>0</td>\n",
       "      <td>1</td>\n",
       "      <td>1</td>\n",
       "      <td>1</td>\n",
       "      <td>0</td>\n",
       "      <td>0</td>\n",
       "      <td>...</td>\n",
       "      <td>0</td>\n",
       "      <td>1</td>\n",
       "      <td>1</td>\n",
       "      <td>1</td>\n",
       "      <td>0</td>\n",
       "      <td>0</td>\n",
       "      <td>0</td>\n",
       "      <td>0</td>\n",
       "      <td>0</td>\n",
       "      <td>1</td>\n",
       "    </tr>\n",
       "    <tr>\n",
       "      <th>4</th>\n",
       "      <td>Image-5.jpg</td>\n",
       "      <td>0</td>\n",
       "      <td>0</td>\n",
       "      <td>0</td>\n",
       "      <td>1</td>\n",
       "      <td>0</td>\n",
       "      <td>1</td>\n",
       "      <td>0</td>\n",
       "      <td>0</td>\n",
       "      <td>0</td>\n",
       "      <td>...</td>\n",
       "      <td>0</td>\n",
       "      <td>0</td>\n",
       "      <td>0</td>\n",
       "      <td>1</td>\n",
       "      <td>1</td>\n",
       "      <td>0</td>\n",
       "      <td>0</td>\n",
       "      <td>1</td>\n",
       "      <td>0</td>\n",
       "      <td>0</td>\n",
       "    </tr>\n",
       "  </tbody>\n",
       "</table>\n",
       "<p>5 rows × 86 columns</p>\n",
       "</div>"
      ],
      "text/plain": [
       "    Image_name  attrib_01  attrib_02  attrib_03  attrib_04  attrib_05  \\\n",
       "0  Image-1.jpg          0          0          0          0          0   \n",
       "1  Image-2.jpg          0          0          0          1          0   \n",
       "2  Image-3.jpg          0          0          0          1          0   \n",
       "3  Image-4.jpg          1          0          0          0          1   \n",
       "4  Image-5.jpg          0          0          0          1          0   \n",
       "\n",
       "   attrib_06  attrib_07  attrib_08  attrib_09    ...      attrib_76  \\\n",
       "0          1          0          0          1    ...              0   \n",
       "1          1          1          0          0    ...              0   \n",
       "2          0          1          0          0    ...              1   \n",
       "3          1          1          0          0    ...              0   \n",
       "4          1          0          0          0    ...              0   \n",
       "\n",
       "   attrib_77  attrib_78  attrib_79  attrib_80  attrib_81  attrib_82  \\\n",
       "0          0          0          1          1          0          0   \n",
       "1          1          0          1          0          0          0   \n",
       "2          0          0          1          0          0          0   \n",
       "3          1          1          1          0          0          0   \n",
       "4          0          0          1          1          0          0   \n",
       "\n",
       "   attrib_83  attrib_84  attrib_85  \n",
       "0          1          0          1  \n",
       "1          0          1          1  \n",
       "2          1          0          1  \n",
       "3          0          0          1  \n",
       "4          1          0          0  \n",
       "\n",
       "[5 rows x 86 columns]"
      ]
     },
     "execution_count": 68,
     "metadata": {},
     "output_type": "execute_result"
    }
   ],
   "source": [
    "temp.head()"
   ]
  },
  {
   "cell_type": "code",
   "execution_count": 64,
   "metadata": {},
   "outputs": [],
   "source": [
    "sam.to_csv('sub-densenet-prob.csv',index=False)"
   ]
  },
  {
   "cell_type": "code",
   "execution_count": 66,
   "metadata": {
    "ExecuteTime": {
     "end_time": "2018-04-23T19:48:01.441309Z",
     "start_time": "2018-04-23T19:48:00.949003Z"
    }
   },
   "outputs": [
    {
     "data": {
      "text/plain": [
       "(5400, 86)"
      ]
     },
     "execution_count": 66,
     "metadata": {},
     "output_type": "execute_result"
    }
   ],
   "source": [
    "\n",
    "temp.to_csv('sub-densenet.csv',index=False)\n",
    "temp.shape"
   ]
  }
 ],
 "metadata": {
  "anaconda-cloud": {},
  "kernelspec": {
   "display_name": "Python 3",
   "language": "python",
   "name": "python3"
  },
  "language_info": {
   "codemirror_mode": {
    "name": "ipython",
    "version": 3
   },
   "file_extension": ".py",
   "mimetype": "text/x-python",
   "name": "python",
   "nbconvert_exporter": "python",
   "pygments_lexer": "ipython3",
   "version": "3.6.4"
  }
 },
 "nbformat": 4,
 "nbformat_minor": 2
}
