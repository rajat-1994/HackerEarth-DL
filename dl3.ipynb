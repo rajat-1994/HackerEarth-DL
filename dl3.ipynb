{
 "cells": [
  {
   "cell_type": "markdown",
   "metadata": {
    "deletable": true,
    "editable": true
   },
   "source": [
    "## MULTI-LABEL IMAGE CLASSIFICATION WITH KERAS"
   ]
  },
  {
   "cell_type": "markdown",
   "metadata": {
    "deletable": true,
    "editable": true
   },
   "source": [
    "### LOADING LIBRARIES"
   ]
  },
  {
   "cell_type": "code",
   "execution_count": 4,
   "metadata": {
    "collapsed": false,
    "deletable": true,
    "editable": true
   },
   "outputs": [
    {
     "name": "stdout",
     "output_type": "stream",
     "text": [
      "Collecting pillow\n",
      "  Downloading https://files.pythonhosted.org/packages/5f/4b/8b54ab9d37b93998c81b364557dff9f61972c0f650efa0ceaf470b392740/Pillow-5.1.0-cp36-cp36m-manylinux1_x86_64.whl (2.0MB)\n",
      "\u001b[K    100% |████████████████████████████████| 2.0MB 674kB/s eta 0:00:01\n",
      "\u001b[?25hInstalling collected packages: pillow\n",
      "Successfully installed pillow-5.1.0\n",
      "\u001b[33mYou are using pip version 9.0.3, however version 10.0.1 is available.\n",
      "You should consider upgrading via the 'pip install --upgrade pip' command.\u001b[0m\n"
     ]
    }
   ],
   "source": [
    "!pip install pillow\n",
    "!pip install sklearn"
   ]
  },
  {
   "cell_type": "code",
   "execution_count": 1,
   "metadata": {
    "ExecuteTime": {
     "end_time": "2018-04-23T17:16:57.853561Z",
     "start_time": "2018-04-23T17:16:52.126925Z"
    },
    "collapsed": false,
    "deletable": true,
    "editable": true,
    "scrolled": false
   },
   "outputs": [],
   "source": [
    "import PIL\n",
    "import PIL.Image\n",
    "\n",
    "from sklearn.utils import shuffle\n",
    "import pandas as pd"
   ]
  },
  {
   "cell_type": "code",
   "execution_count": 2,
   "metadata": {
    "collapsed": false,
    "deletable": true,
    "editable": true
   },
   "outputs": [
    {
     "name": "stderr",
     "output_type": "stream",
     "text": [
      "/home/ubuntu/anaconda3/envs/tensorflow_p36/lib/python3.6/site-packages/h5py/__init__.py:36: FutureWarning: Conversion of the second argument of issubdtype from `float` to `np.floating` is deprecated. In future, it will be treated as `np.float64 == np.dtype(float).type`.\n",
      "  from ._conv import register_converters as _register_converters\n",
      "Using TensorFlow backend.\n"
     ]
    }
   ],
   "source": [
    "from keras import applications\n",
    "from keras.preprocessing.image import ImageDataGenerator\n",
    "from keras import optimizers\n",
    "from keras.models import Sequential, Model \n",
    "from keras.layers import Dropout, Flatten, Dense, GlobalAveragePooling2D\n",
    "from keras import backend as k \n",
    "from keras.callbacks import ModelCheckpoint, LearningRateScheduler, TensorBoard, EarlyStopping\n",
    "from keras.preprocessing import image\n",
    "from keras.utils.np_utils import to_categorical\n",
    "import numpy as np\n",
    "#from sklearn.preprocessing import LabelEncoder\n",
    "from keras.optimizers import Adam\n",
    "from keras.layers import Input, Dense, Convolution2D, MaxPooling2D, AveragePooling2D, ZeroPadding2D, Dropout, Flatten, merge, Reshape, Activation"
   ]
  },
  {
   "cell_type": "code",
   "execution_count": 3,
   "metadata": {
    "collapsed": true,
    "deletable": true,
    "editable": true
   },
   "outputs": [],
   "source": [
    "\n",
    "import glob,matplotlib as plt\n",
    "%matplotlib inline"
   ]
  },
  {
   "cell_type": "code",
   "execution_count": 7,
   "metadata": {
    "collapsed": true,
    "deletable": true,
    "editable": true
   },
   "outputs": [],
   "source": [
    "#from keras.applications.vgg16 import VGG16, preprocess_input,decode_predictions"
   ]
  },
  {
   "cell_type": "code",
   "execution_count": 4,
   "metadata": {
    "collapsed": true,
    "deletable": true,
    "editable": true
   },
   "outputs": [],
   "source": [
    "from keras.applications.xception import Xception,preprocess_input, decode_predictions"
   ]
  },
  {
   "cell_type": "markdown",
   "metadata": {
    "deletable": true,
    "editable": true
   },
   "source": [
    "### LOADING DATA"
   ]
  },
  {
   "cell_type": "code",
   "execution_count": 5,
   "metadata": {
    "collapsed": true,
    "deletable": true,
    "editable": true
   },
   "outputs": [],
   "source": [
    "train=pd.read_csv('./meta-data/train.csv')\n",
    "test=pd.read_csv('./meta-data/test.csv')\n",
    "sam=pd.read_csv('./meta-data/sample_submission.csv')"
   ]
  },
  {
   "cell_type": "code",
   "execution_count": 6,
   "metadata": {
    "collapsed": true,
    "deletable": true,
    "editable": true
   },
   "outputs": [],
   "source": [
    "img_width, img_height = 224, 224"
   ]
  },
  {
   "cell_type": "code",
   "execution_count": 7,
   "metadata": {
    "collapsed": false,
    "deletable": true,
    "editable": true
   },
   "outputs": [
    {
     "data": {
      "text/plain": [
       "((12600, 86), (5400, 1))"
      ]
     },
     "execution_count": 7,
     "metadata": {},
     "output_type": "execute_result"
    }
   ],
   "source": [
    "train.shape,test.shape"
   ]
  },
  {
   "cell_type": "code",
   "execution_count": 8,
   "metadata": {
    "collapsed": true,
    "deletable": true,
    "editable": true
   },
   "outputs": [],
   "source": [
    "\n",
    "import cv2\n",
    "def read_image(img_path,H,W):\n",
    "    img = cv2.imread(img_path, cv2.IMREAD_COLOR)\n",
    "    #img = cv2.cvtColor(img, cv2.COLOR_BGR2RGB)\n",
    "    img = cv2.resize(img, (W,H)) # you can resize to  (128,128) or (256,256)\n",
    "    return img\n"
   ]
  },
  {
   "cell_type": "code",
   "execution_count": 9,
   "metadata": {
    "collapsed": false,
    "deletable": true,
    "editable": true
   },
   "outputs": [
    {
     "data": {
      "text/plain": [
       "11"
      ]
     },
     "execution_count": 9,
     "metadata": {},
     "output_type": "execute_result"
    }
   ],
   "source": [
    "import gc\n",
    "gc.collect()"
   ]
  },
  {
   "cell_type": "code",
   "execution_count": null,
   "metadata": {
    "collapsed": true,
    "deletable": true,
    "editable": true
   },
   "outputs": [],
   "source": [
    "%%time\n",
    "image_lr=[]\n",
    "train_img=[]\n",
    "for i in list(train.Image_name):\n",
    "    image_lr.append(read_image('./train_img/'+str(i),224,224))\n",
    "train_img=np.array(image_lr,dtype=np.float32)\n",
    "train_img=preprocess_input(train_img)"
   ]
  },
  {
   "cell_type": "code",
   "execution_count": 16,
   "metadata": {
    "collapsed": false,
    "deletable": true,
    "editable": true
   },
   "outputs": [
    {
     "data": {
      "text/plain": [
       "(12600, 224, 224, 3)"
      ]
     },
     "execution_count": 16,
     "metadata": {},
     "output_type": "execute_result"
    }
   ],
   "source": [
    "train_img.shape#,test_img.shape"
   ]
  },
  {
   "cell_type": "code",
   "execution_count": 13,
   "metadata": {
    "collapsed": false,
    "deletable": true,
    "editable": true
   },
   "outputs": [
    {
     "data": {
      "text/plain": [
       "82950"
      ]
     },
     "execution_count": 13,
     "metadata": {},
     "output_type": "execute_result"
    }
   ],
   "source": [
    "\n",
    "# Initiate the train and test generators with data Augumentation \n",
    "train_datagen = ImageDataGenerator(\n",
    "#rescale = 1./255,   \n",
    "horizontal_flip = True,\n",
    "zoom_range = 0.2,\n",
    "width_shift_range = 0.2,\n",
    "height_shift_range=0.2,\n",
    "rotation_range=20)\n",
    "\n",
    "'''\n",
    "test_datagen = ImageDataGenerator(\n",
    "#rescale = 1./255,\n",
    "horizontal_flip = True,\n",
    "zoom_range = 0.2,\n",
    "width_shift_range = 0.2,\n",
    "height_shift_range=0.2,\n",
    "rotation_range=20)\n",
    "\n",
    "'''\n",
    "\n",
    "gc.collect()\n"
   ]
  },
  {
   "cell_type": "code",
   "execution_count": 18,
   "metadata": {
    "collapsed": false,
    "deletable": true,
    "editable": true
   },
   "outputs": [
    {
     "data": {
      "text/plain": [
       "(12600, 85)"
      ]
     },
     "execution_count": 18,
     "metadata": {},
     "output_type": "execute_result"
    }
   ],
   "source": [
    "Y=train.iloc[:,1:]\n",
    "Y.shape"
   ]
  },
  {
   "cell_type": "code",
   "execution_count": 19,
   "metadata": {
    "collapsed": false,
    "deletable": true,
    "editable": true
   },
   "outputs": [
    {
     "data": {
      "text/plain": [
       "((11340, 224, 224, 3), (11340, 85), (1260, 224, 224, 3), (1260, 85))"
      ]
     },
     "execution_count": 19,
     "metadata": {},
     "output_type": "execute_result"
    }
   ],
   "source": [
    "'''\n",
    "l=int(train.shape[0]-(0.1*train.shape[0]))\n",
    "l\n",
    "x_train=train_img[:l,:,:,:]\n",
    "y_train=Y[:l]\n",
    "x_valid=train_img[l:,:,:,:]\n",
    "y_valid=Y[l:]\n",
    "x_train.shape,y_train.shape,x_valid.shape,y_valid.shape\n",
    "\n",
    "\n",
    "'''"
   ]
  },
  {
   "cell_type": "code",
   "execution_count": 14,
   "metadata": {
    "collapsed": true,
    "deletable": true,
    "editable": true
   },
   "outputs": [],
   "source": [
    "batch_size=256"
   ]
  },
  {
   "cell_type": "code",
   "execution_count": 41,
   "metadata": {
    "collapsed": true,
    "deletable": true,
    "editable": true
   },
   "outputs": [],
   "source": [
    "\n",
    "\n",
    "train_generator = train_datagen.flow(train_img,Y,\n",
    "                                    batch_size = batch_size,\n",
    "                                    shuffle=True)\n",
    "                                    #class_mode = \"categorical\")\n",
    "'''\n",
    "validation_generator = test_datagen.flow(x_valid,y_valid,\n",
    "                                         batch_size = batch_size,\n",
    "                                        shuffle=True)\n",
    "                                        #class_mode = \"categorical\")\n",
    "'''"
   ]
  },
  {
   "cell_type": "code",
   "execution_count": 42,
   "metadata": {
    "collapsed": true,
    "deletable": true,
    "editable": true
   },
   "outputs": [],
   "source": [
    "model = applications.Xception(weights = \"imagenet\", include_top=False, input_shape = (img_width, img_height, 3))"
   ]
  },
  {
   "cell_type": "code",
   "execution_count": 43,
   "metadata": {
    "collapsed": true,
    "deletable": true,
    "editable": true
   },
   "outputs": [],
   "source": [
    "# Freeze the layers which you don't want to train. Here I am freezing the first 5 layers.\n",
    "for layer in model.layers:\n",
    "    layer.trainable = False"
   ]
  },
  {
   "cell_type": "code",
   "execution_count": 44,
   "metadata": {
    "collapsed": false,
    "deletable": true,
    "editable": true
   },
   "outputs": [
    {
     "name": "stderr",
     "output_type": "stream",
     "text": [
      "/home/ubuntu/anaconda3/envs/tensorflow_p36/lib/python3.6/site-packages/ipykernel_launcher.py:12: UserWarning: Update your `Model` call to the Keras 2 API: `Model(inputs=Tensor(\"in..., outputs=Tensor(\"de...)`\n",
      "  if sys.path[0] == '':\n"
     ]
    }
   ],
   "source": [
    "\n",
    "\n",
    "#Adding custom Layers \n",
    "x = model.output\n",
    "x = GlobalAveragePooling2D()(x)\n",
    "x = Dense(512, activation=\"relu\")(x)\n",
    "x = Dropout(0.3)(x)\n",
    "x = Dense(128, activation=\"relu\")(x)\n",
    "predictions = Dense(85, activation=\"sigmoid\")(x)\n",
    "\n",
    "# creating the final model \n",
    "model_final = Model(input = model.input, output = predictions)\n"
   ]
  },
  {
   "cell_type": "code",
   "execution_count": 45,
   "metadata": {
    "collapsed": true,
    "deletable": true,
    "editable": true
   },
   "outputs": [],
   "source": [
    "adam = Adam(lr=1e-2)\n",
    "model_final.compile(optimizer=adam, loss='binary_crossentropy', metrics=['accuracy'])"
   ]
  },
  {
   "cell_type": "code",
   "execution_count": 47,
   "metadata": {
    "collapsed": false,
    "deletable": true,
    "editable": true
   },
   "outputs": [
    {
     "name": "stdout",
     "output_type": "stream",
     "text": [
      "Epoch 1/3\n",
      "49/49 [==============================] - 144s 3s/step - loss: 0.3633 - acc: 0.8348\n",
      "Epoch 2/3\n",
      "49/49 [==============================] - 141s 3s/step - loss: 0.2396 - acc: 0.8960\n",
      "Epoch 3/3\n",
      "49/49 [==============================] - 140s 3s/step - loss: 0.2111 - acc: 0.9094\n"
     ]
    },
    {
     "data": {
      "text/plain": [
       "<keras.callbacks.History at 0x7f50944f0588>"
      ]
     },
     "execution_count": 47,
     "metadata": {},
     "output_type": "execute_result"
    }
   ],
   "source": [
    "#validation_data=validation_generator, validation_steps=x_valid.shape[0]//batch_size, \n",
    "model_final.fit_generator( train_generator, steps_per_epoch=train_img.shape[0]//batch_size, epochs=3,shuffle=True)"
   ]
  },
  {
   "cell_type": "code",
   "execution_count": 49,
   "metadata": {
    "collapsed": false,
    "deletable": true,
    "editable": true
   },
   "outputs": [
    {
     "name": "stdout",
     "output_type": "stream",
     "text": [
      "Epoch 1/2\n",
      "49/49 [==============================] - 144s 3s/step - loss: 0.1886 - acc: 0.9201\n",
      "Epoch 2/2\n",
      "49/49 [==============================] - 141s 3s/step - loss: 0.1821 - acc: 0.9233\n"
     ]
    },
    {
     "data": {
      "text/plain": [
       "<keras.callbacks.History at 0x7f50944043c8>"
      ]
     },
     "execution_count": 49,
     "metadata": {},
     "output_type": "execute_result"
    }
   ],
   "source": [
    "# Train the model \n",
    "k.set_value(adam.lr, 0.001)\n",
    "model_final.fit_generator( train_generator, steps_per_epoch=train_img.shape[0]//batch_size, epochs=2,shuffle=True)\n",
    "#model_final.fit(train_img, Y,batch_size=256,epochs=3,shuffle=True,verbose=1)"
   ]
  },
  {
   "cell_type": "code",
   "execution_count": 50,
   "metadata": {
    "collapsed": true,
    "deletable": true,
    "editable": true
   },
   "outputs": [],
   "source": [
    "# Freeze the layers which you don't want to train. Here I am freezing the first 5 layers.\n",
    "for layer in model_final.layers[:126]:\n",
    "    layer.trainable = False\n",
    "for layer in model_final.layers[126:]:\n",
    "    layer.trainable = True"
   ]
  },
  {
   "cell_type": "code",
   "execution_count": 51,
   "metadata": {
    "collapsed": false,
    "deletable": true,
    "editable": true
   },
   "outputs": [
    {
     "name": "stdout",
     "output_type": "stream",
     "text": [
      "Epoch 1/1\n",
      "49/49 [==============================] - 145s 3s/step - loss: 0.1742 - acc: 0.9266\n"
     ]
    },
    {
     "data": {
      "text/plain": [
       "<keras.callbacks.History at 0x7f50af9e8b70>"
      ]
     },
     "execution_count": 51,
     "metadata": {},
     "output_type": "execute_result"
    }
   ],
   "source": [
    "adam = Adam(lr=1e-4)\n",
    "model_final.compile(optimizer=adam, loss='binary_crossentropy', metrics=['accuracy'])\n",
    "model_final.fit_generator( train_generator, steps_per_epoch=train_img.shape[0]//batch_size, epochs=1, shuffle=True)"
   ]
  },
  {
   "cell_type": "code",
   "execution_count": 53,
   "metadata": {
    "collapsed": false,
    "deletable": true,
    "editable": true
   },
   "outputs": [
    {
     "name": "stdout",
     "output_type": "stream",
     "text": [
      "Epoch 1/2\n",
      "49/49 [==============================] - 147s 3s/step - loss: 0.1624 - acc: 0.9316\n",
      "Epoch 2/2\n",
      "49/49 [==============================] - 141s 3s/step - loss: 0.1574 - acc: 0.9337\n"
     ]
    },
    {
     "data": {
      "text/plain": [
       "<keras.callbacks.History at 0x7f5097ddba90>"
      ]
     },
     "execution_count": 53,
     "metadata": {},
     "output_type": "execute_result"
    }
   ],
   "source": [
    "model_final.fit_generator( train_generator, steps_per_epoch=train_img.shape[0]//batch_size, epochs=2,shuffle=True)"
   ]
  },
  {
   "cell_type": "code",
   "execution_count": 54,
   "metadata": {
    "collapsed": false,
    "deletable": true,
    "editable": true
   },
   "outputs": [
    {
     "name": "stdout",
     "output_type": "stream",
     "text": [
      "Saved model to disk\n"
     ]
    }
   ],
   "source": [
    "# serialize model to JSON\n",
    "from keras.models import model_from_json\n",
    "model_json = model_final.to_json()\n",
    "with open(\"dl3.json\", \"w\") as json_file:\n",
    "    json_file.write(model_json)\n",
    "# serialize weights to HDF5\n",
    "model_final.save_weights(\"dl3.h5\")\n",
    "print(\"Saved model to disk\")\n",
    " \n",
    "# later...\n"
   ]
  },
  {
   "cell_type": "markdown",
   "metadata": {
    "deletable": true,
    "editable": true
   },
   "source": [
    "### PREDICTIONG / SUBMISSION"
   ]
  },
  {
   "cell_type": "markdown",
   "metadata": {
    "deletable": true,
    "editable": true
   },
   "source": [
    "##### LOAD MODEL AND WEIGHTS"
   ]
  },
  {
   "cell_type": "code",
   "execution_count": 10,
   "metadata": {
    "collapsed": false,
    "deletable": true,
    "editable": true
   },
   "outputs": [
    {
     "data": {
      "text/plain": [
       "0"
      ]
     },
     "execution_count": 10,
     "metadata": {},
     "output_type": "execute_result"
    }
   ],
   "source": [
    "gc.collect()"
   ]
  },
  {
   "cell_type": "code",
   "execution_count": 11,
   "metadata": {
    "collapsed": false,
    "deletable": true,
    "editable": true
   },
   "outputs": [
    {
     "name": "stdout",
     "output_type": "stream",
     "text": [
      "CPU times: user 1min 30s, sys: 1.52 s, total: 1min 32s\n",
      "Wall time: 1min 32s\n"
     ]
    }
   ],
   "source": [
    "%%time\n",
    "image_lr=[]\n",
    "test_img=[]\n",
    "for i in list(test.Image_name):\n",
    "    image_lr.append(read_image('./test_img/'+str(i),224,224))\n",
    "test_img=np.array(image_lr,dtype=np.float32)\n",
    "test_img=preprocess_input(test_img)"
   ]
  },
  {
   "cell_type": "code",
   "execution_count": 12,
   "metadata": {
    "collapsed": false,
    "deletable": true,
    "editable": true
   },
   "outputs": [
    {
     "name": "stdout",
     "output_type": "stream",
     "text": [
      "Loaded model from disk\n"
     ]
    }
   ],
   "source": [
    "from keras.models import model_from_json\n",
    "# load json and create model\n",
    "json_file = open('dl3.json', 'r')\n",
    "loaded_model_json = json_file.read()\n",
    "json_file.close()\n",
    "model_final = model_from_json(loaded_model_json)\n",
    "# load weights into new model\n",
    "model_final.load_weights(\"dl3.h5\")\n",
    "print(\"Loaded model from disk\")\n",
    "\n"
   ]
  },
  {
   "cell_type": "code",
   "execution_count": 15,
   "metadata": {
    "collapsed": true,
    "deletable": true,
    "editable": true
   },
   "outputs": [],
   "source": [
    "test_datagen = ImageDataGenerator(\n",
    "#rescale = 1./255,\n",
    "horizontal_flip = True,\n",
    "zoom_range = 0.2,\n",
    "width_shift_range = 0.2,\n",
    "height_shift_range=0.2,\n",
    "rotation_range=20)\n",
    "\n",
    "batch_size=256"
   ]
  },
  {
   "cell_type": "code",
   "execution_count": 19,
   "metadata": {
    "collapsed": false,
    "deletable": true,
    "editable": true
   },
   "outputs": [
    {
     "name": "stdout",
     "output_type": "stream",
     "text": [
      "22/22 [==============================] - 71s 3s/step\n"
     ]
    }
   ],
   "source": [
    "test_generator = test_datagen.flow(test_img,batch_size = batch_size,shuffle=True)                                      \n",
    "pred=model_final.predict_generator(test_generator,verbose=1)\n"
   ]
  },
  {
   "cell_type": "code",
   "execution_count": 21,
   "metadata": {
    "collapsed": false,
    "deletable": true,
    "editable": true
   },
   "outputs": [
    {
     "data": {
      "text/plain": [
       "((5400, 1), (5400, 224, 224, 3))"
      ]
     },
     "execution_count": 21,
     "metadata": {},
     "output_type": "execute_result"
    }
   ],
   "source": [
    "test.shape,test_img.shape"
   ]
  },
  {
   "cell_type": "code",
   "execution_count": 22,
   "metadata": {
    "collapsed": false,
    "deletable": true,
    "editable": true
   },
   "outputs": [
    {
     "data": {
      "text/plain": [
       "(5400, 85)"
      ]
     },
     "execution_count": 22,
     "metadata": {},
     "output_type": "execute_result"
    }
   ],
   "source": [
    "pred.shape"
   ]
  },
  {
   "cell_type": "code",
   "execution_count": 31,
   "metadata": {
    "collapsed": false,
    "deletable": true,
    "editable": true
   },
   "outputs": [
    {
     "data": {
      "text/html": [
       "<div>\n",
       "<style scoped>\n",
       "    .dataframe tbody tr th:only-of-type {\n",
       "        vertical-align: middle;\n",
       "    }\n",
       "\n",
       "    .dataframe tbody tr th {\n",
       "        vertical-align: top;\n",
       "    }\n",
       "\n",
       "    .dataframe thead th {\n",
       "        text-align: right;\n",
       "    }\n",
       "</style>\n",
       "<table border=\"1\" class=\"dataframe\">\n",
       "  <thead>\n",
       "    <tr style=\"text-align: right;\">\n",
       "      <th></th>\n",
       "      <th>Image_name</th>\n",
       "      <th>attrib_01</th>\n",
       "      <th>attrib_02</th>\n",
       "      <th>attrib_03</th>\n",
       "      <th>attrib_04</th>\n",
       "      <th>attrib_05</th>\n",
       "      <th>attrib_06</th>\n",
       "      <th>attrib_07</th>\n",
       "      <th>attrib_08</th>\n",
       "      <th>attrib_09</th>\n",
       "      <th>...</th>\n",
       "      <th>attrib_76</th>\n",
       "      <th>attrib_77</th>\n",
       "      <th>attrib_78</th>\n",
       "      <th>attrib_79</th>\n",
       "      <th>attrib_80</th>\n",
       "      <th>attrib_81</th>\n",
       "      <th>attrib_82</th>\n",
       "      <th>attrib_83</th>\n",
       "      <th>attrib_84</th>\n",
       "      <th>attrib_85</th>\n",
       "    </tr>\n",
       "  </thead>\n",
       "  <tbody>\n",
       "    <tr>\n",
       "      <th>0</th>\n",
       "      <td>Image-1.jpg</td>\n",
       "      <td>0.117319</td>\n",
       "      <td>1.659853e-05</td>\n",
       "      <td>8.829146e-08</td>\n",
       "      <td>0.028858</td>\n",
       "      <td>7.984019e-04</td>\n",
       "      <td>0.999267</td>\n",
       "      <td>0.020317</td>\n",
       "      <td>2.430703e-03</td>\n",
       "      <td>0.948949</td>\n",
       "      <td>...</td>\n",
       "      <td>0.232922</td>\n",
       "      <td>0.000869</td>\n",
       "      <td>0.968741</td>\n",
       "      <td>0.780258</td>\n",
       "      <td>9.820098e-01</td>\n",
       "      <td>0.004417</td>\n",
       "      <td>9.021670e-10</td>\n",
       "      <td>0.991577</td>\n",
       "      <td>4.473517e-06</td>\n",
       "      <td>0.916900</td>\n",
       "    </tr>\n",
       "    <tr>\n",
       "      <th>1</th>\n",
       "      <td>Image-2.jpg</td>\n",
       "      <td>1.000000</td>\n",
       "      <td>4.705302e-09</td>\n",
       "      <td>9.999999e-01</td>\n",
       "      <td>1.000000</td>\n",
       "      <td>7.335226e-13</td>\n",
       "      <td>0.000004</td>\n",
       "      <td>0.000007</td>\n",
       "      <td>2.117965e-07</td>\n",
       "      <td>0.996960</td>\n",
       "      <td>...</td>\n",
       "      <td>1.000000</td>\n",
       "      <td>0.975226</td>\n",
       "      <td>0.999997</td>\n",
       "      <td>0.000019</td>\n",
       "      <td>2.459377e-06</td>\n",
       "      <td>0.999972</td>\n",
       "      <td>5.039305e-14</td>\n",
       "      <td>0.999979</td>\n",
       "      <td>5.428850e-10</td>\n",
       "      <td>0.000077</td>\n",
       "    </tr>\n",
       "    <tr>\n",
       "      <th>2</th>\n",
       "      <td>Image-3.jpg</td>\n",
       "      <td>0.999810</td>\n",
       "      <td>2.015840e-08</td>\n",
       "      <td>1.013792e-05</td>\n",
       "      <td>0.999996</td>\n",
       "      <td>2.509124e-14</td>\n",
       "      <td>0.000199</td>\n",
       "      <td>0.000048</td>\n",
       "      <td>9.999944e-01</td>\n",
       "      <td>0.999974</td>\n",
       "      <td>...</td>\n",
       "      <td>0.999329</td>\n",
       "      <td>0.000004</td>\n",
       "      <td>0.000099</td>\n",
       "      <td>0.999991</td>\n",
       "      <td>8.449949e-07</td>\n",
       "      <td>0.999958</td>\n",
       "      <td>2.636226e-16</td>\n",
       "      <td>0.999995</td>\n",
       "      <td>5.494431e-07</td>\n",
       "      <td>0.919105</td>\n",
       "    </tr>\n",
       "    <tr>\n",
       "      <th>3</th>\n",
       "      <td>Image-4.jpg</td>\n",
       "      <td>0.882191</td>\n",
       "      <td>1.208933e-02</td>\n",
       "      <td>1.149171e-02</td>\n",
       "      <td>0.358601</td>\n",
       "      <td>2.647758e-01</td>\n",
       "      <td>0.816245</td>\n",
       "      <td>0.235523</td>\n",
       "      <td>2.062053e-02</td>\n",
       "      <td>0.117917</td>\n",
       "      <td>...</td>\n",
       "      <td>0.586667</td>\n",
       "      <td>0.418045</td>\n",
       "      <td>0.859593</td>\n",
       "      <td>0.699928</td>\n",
       "      <td>1.341764e-01</td>\n",
       "      <td>0.030996</td>\n",
       "      <td>4.071902e-04</td>\n",
       "      <td>0.802190</td>\n",
       "      <td>1.365234e-02</td>\n",
       "      <td>0.282143</td>\n",
       "    </tr>\n",
       "    <tr>\n",
       "      <th>4</th>\n",
       "      <td>Image-5.jpg</td>\n",
       "      <td>0.151068</td>\n",
       "      <td>4.547408e-05</td>\n",
       "      <td>3.547970e-07</td>\n",
       "      <td>0.053564</td>\n",
       "      <td>8.809268e-04</td>\n",
       "      <td>0.998528</td>\n",
       "      <td>0.023123</td>\n",
       "      <td>3.654342e-03</td>\n",
       "      <td>0.943171</td>\n",
       "      <td>...</td>\n",
       "      <td>0.277097</td>\n",
       "      <td>0.002486</td>\n",
       "      <td>0.979284</td>\n",
       "      <td>0.819130</td>\n",
       "      <td>9.697222e-01</td>\n",
       "      <td>0.008256</td>\n",
       "      <td>3.249107e-09</td>\n",
       "      <td>0.986364</td>\n",
       "      <td>1.381546e-05</td>\n",
       "      <td>0.865403</td>\n",
       "    </tr>\n",
       "  </tbody>\n",
       "</table>\n",
       "<p>5 rows × 86 columns</p>\n",
       "</div>"
      ],
      "text/plain": [
       "    Image_name  attrib_01     attrib_02     attrib_03  attrib_04  \\\n",
       "0  Image-1.jpg   0.117319  1.659853e-05  8.829146e-08   0.028858   \n",
       "1  Image-2.jpg   1.000000  4.705302e-09  9.999999e-01   1.000000   \n",
       "2  Image-3.jpg   0.999810  2.015840e-08  1.013792e-05   0.999996   \n",
       "3  Image-4.jpg   0.882191  1.208933e-02  1.149171e-02   0.358601   \n",
       "4  Image-5.jpg   0.151068  4.547408e-05  3.547970e-07   0.053564   \n",
       "\n",
       "      attrib_05  attrib_06  attrib_07     attrib_08  attrib_09    ...      \\\n",
       "0  7.984019e-04   0.999267   0.020317  2.430703e-03   0.948949    ...       \n",
       "1  7.335226e-13   0.000004   0.000007  2.117965e-07   0.996960    ...       \n",
       "2  2.509124e-14   0.000199   0.000048  9.999944e-01   0.999974    ...       \n",
       "3  2.647758e-01   0.816245   0.235523  2.062053e-02   0.117917    ...       \n",
       "4  8.809268e-04   0.998528   0.023123  3.654342e-03   0.943171    ...       \n",
       "\n",
       "   attrib_76  attrib_77  attrib_78  attrib_79     attrib_80  attrib_81  \\\n",
       "0   0.232922   0.000869   0.968741   0.780258  9.820098e-01   0.004417   \n",
       "1   1.000000   0.975226   0.999997   0.000019  2.459377e-06   0.999972   \n",
       "2   0.999329   0.000004   0.000099   0.999991  8.449949e-07   0.999958   \n",
       "3   0.586667   0.418045   0.859593   0.699928  1.341764e-01   0.030996   \n",
       "4   0.277097   0.002486   0.979284   0.819130  9.697222e-01   0.008256   \n",
       "\n",
       "      attrib_82  attrib_83     attrib_84  attrib_85  \n",
       "0  9.021670e-10   0.991577  4.473517e-06   0.916900  \n",
       "1  5.039305e-14   0.999979  5.428850e-10   0.000077  \n",
       "2  2.636226e-16   0.999995  5.494431e-07   0.919105  \n",
       "3  4.071902e-04   0.802190  1.365234e-02   0.282143  \n",
       "4  3.249107e-09   0.986364  1.381546e-05   0.865403  \n",
       "\n",
       "[5 rows x 86 columns]"
      ]
     },
     "execution_count": 31,
     "metadata": {},
     "output_type": "execute_result"
    }
   ],
   "source": [
    "\n",
    "sam['Image_name']=test.Image_name\n",
    "sam.iloc[:,1:]=pred\n",
    "sam.head()"
   ]
  },
  {
   "cell_type": "code",
   "execution_count": 2,
   "metadata": {
    "ExecuteTime": {
     "end_time": "2018-04-23T17:17:39.817507Z",
     "start_time": "2018-04-23T17:17:39.464629Z"
    },
    "collapsed": false
   },
   "outputs": [
    {
     "data": {
      "text/html": [
       "<div>\n",
       "<table border=\"1\" class=\"dataframe\">\n",
       "  <thead>\n",
       "    <tr style=\"text-align: right;\">\n",
       "      <th></th>\n",
       "      <th>Image_name</th>\n",
       "      <th>attrib_01</th>\n",
       "      <th>attrib_02</th>\n",
       "      <th>attrib_03</th>\n",
       "      <th>attrib_04</th>\n",
       "      <th>attrib_05</th>\n",
       "      <th>attrib_06</th>\n",
       "      <th>attrib_07</th>\n",
       "      <th>attrib_08</th>\n",
       "      <th>attrib_09</th>\n",
       "      <th>...</th>\n",
       "      <th>attrib_76</th>\n",
       "      <th>attrib_77</th>\n",
       "      <th>attrib_78</th>\n",
       "      <th>attrib_79</th>\n",
       "      <th>attrib_80</th>\n",
       "      <th>attrib_81</th>\n",
       "      <th>attrib_82</th>\n",
       "      <th>attrib_83</th>\n",
       "      <th>attrib_84</th>\n",
       "      <th>attrib_85</th>\n",
       "    </tr>\n",
       "  </thead>\n",
       "  <tbody>\n",
       "    <tr>\n",
       "      <th>0</th>\n",
       "      <td>Image-1.jpg</td>\n",
       "      <td>0.117319</td>\n",
       "      <td>1.659853e-05</td>\n",
       "      <td>8.829146e-08</td>\n",
       "      <td>0.028858</td>\n",
       "      <td>7.984019e-04</td>\n",
       "      <td>0.999267</td>\n",
       "      <td>0.020317</td>\n",
       "      <td>2.430703e-03</td>\n",
       "      <td>0.948949</td>\n",
       "      <td>...</td>\n",
       "      <td>0.232922</td>\n",
       "      <td>0.000869</td>\n",
       "      <td>0.968741</td>\n",
       "      <td>0.780258</td>\n",
       "      <td>9.820098e-01</td>\n",
       "      <td>0.004417</td>\n",
       "      <td>9.021670e-10</td>\n",
       "      <td>0.991577</td>\n",
       "      <td>4.473517e-06</td>\n",
       "      <td>0.916900</td>\n",
       "    </tr>\n",
       "    <tr>\n",
       "      <th>1</th>\n",
       "      <td>Image-2.jpg</td>\n",
       "      <td>1.000000</td>\n",
       "      <td>4.705302e-09</td>\n",
       "      <td>9.999999e-01</td>\n",
       "      <td>1.000000</td>\n",
       "      <td>7.335226e-13</td>\n",
       "      <td>0.000004</td>\n",
       "      <td>0.000007</td>\n",
       "      <td>2.117965e-07</td>\n",
       "      <td>0.996960</td>\n",
       "      <td>...</td>\n",
       "      <td>1.000000</td>\n",
       "      <td>0.975226</td>\n",
       "      <td>0.999997</td>\n",
       "      <td>0.000019</td>\n",
       "      <td>2.459377e-06</td>\n",
       "      <td>0.999972</td>\n",
       "      <td>5.039305e-14</td>\n",
       "      <td>0.999979</td>\n",
       "      <td>5.428850e-10</td>\n",
       "      <td>0.000077</td>\n",
       "    </tr>\n",
       "    <tr>\n",
       "      <th>2</th>\n",
       "      <td>Image-3.jpg</td>\n",
       "      <td>0.999810</td>\n",
       "      <td>2.015840e-08</td>\n",
       "      <td>1.013792e-05</td>\n",
       "      <td>0.999996</td>\n",
       "      <td>2.509124e-14</td>\n",
       "      <td>0.000199</td>\n",
       "      <td>0.000048</td>\n",
       "      <td>9.999944e-01</td>\n",
       "      <td>0.999974</td>\n",
       "      <td>...</td>\n",
       "      <td>0.999329</td>\n",
       "      <td>0.000004</td>\n",
       "      <td>0.000099</td>\n",
       "      <td>0.999991</td>\n",
       "      <td>8.449949e-07</td>\n",
       "      <td>0.999958</td>\n",
       "      <td>2.636226e-16</td>\n",
       "      <td>0.999995</td>\n",
       "      <td>5.494431e-07</td>\n",
       "      <td>0.919105</td>\n",
       "    </tr>\n",
       "    <tr>\n",
       "      <th>3</th>\n",
       "      <td>Image-4.jpg</td>\n",
       "      <td>0.882191</td>\n",
       "      <td>1.208933e-02</td>\n",
       "      <td>1.149171e-02</td>\n",
       "      <td>0.358601</td>\n",
       "      <td>2.647758e-01</td>\n",
       "      <td>0.816245</td>\n",
       "      <td>0.235523</td>\n",
       "      <td>2.062053e-02</td>\n",
       "      <td>0.117917</td>\n",
       "      <td>...</td>\n",
       "      <td>0.586667</td>\n",
       "      <td>0.418045</td>\n",
       "      <td>0.859593</td>\n",
       "      <td>0.699928</td>\n",
       "      <td>1.341764e-01</td>\n",
       "      <td>0.030996</td>\n",
       "      <td>4.071902e-04</td>\n",
       "      <td>0.802190</td>\n",
       "      <td>1.365234e-02</td>\n",
       "      <td>0.282143</td>\n",
       "    </tr>\n",
       "    <tr>\n",
       "      <th>4</th>\n",
       "      <td>Image-5.jpg</td>\n",
       "      <td>0.151068</td>\n",
       "      <td>4.547408e-05</td>\n",
       "      <td>3.547970e-07</td>\n",
       "      <td>0.053564</td>\n",
       "      <td>8.809268e-04</td>\n",
       "      <td>0.998528</td>\n",
       "      <td>0.023123</td>\n",
       "      <td>3.654342e-03</td>\n",
       "      <td>0.943171</td>\n",
       "      <td>...</td>\n",
       "      <td>0.277097</td>\n",
       "      <td>0.002486</td>\n",
       "      <td>0.979284</td>\n",
       "      <td>0.819130</td>\n",
       "      <td>9.697222e-01</td>\n",
       "      <td>0.008256</td>\n",
       "      <td>3.249107e-09</td>\n",
       "      <td>0.986364</td>\n",
       "      <td>1.381546e-05</td>\n",
       "      <td>0.865403</td>\n",
       "    </tr>\n",
       "  </tbody>\n",
       "</table>\n",
       "<p>5 rows × 86 columns</p>\n",
       "</div>"
      ],
      "text/plain": [
       "    Image_name  attrib_01     attrib_02     attrib_03  attrib_04  \\\n",
       "0  Image-1.jpg   0.117319  1.659853e-05  8.829146e-08   0.028858   \n",
       "1  Image-2.jpg   1.000000  4.705302e-09  9.999999e-01   1.000000   \n",
       "2  Image-3.jpg   0.999810  2.015840e-08  1.013792e-05   0.999996   \n",
       "3  Image-4.jpg   0.882191  1.208933e-02  1.149171e-02   0.358601   \n",
       "4  Image-5.jpg   0.151068  4.547408e-05  3.547970e-07   0.053564   \n",
       "\n",
       "      attrib_05  attrib_06  attrib_07     attrib_08  attrib_09    ...      \\\n",
       "0  7.984019e-04   0.999267   0.020317  2.430703e-03   0.948949    ...       \n",
       "1  7.335226e-13   0.000004   0.000007  2.117965e-07   0.996960    ...       \n",
       "2  2.509124e-14   0.000199   0.000048  9.999944e-01   0.999974    ...       \n",
       "3  2.647758e-01   0.816245   0.235523  2.062053e-02   0.117917    ...       \n",
       "4  8.809268e-04   0.998528   0.023123  3.654342e-03   0.943171    ...       \n",
       "\n",
       "   attrib_76  attrib_77  attrib_78  attrib_79     attrib_80  attrib_81  \\\n",
       "0   0.232922   0.000869   0.968741   0.780258  9.820098e-01   0.004417   \n",
       "1   1.000000   0.975226   0.999997   0.000019  2.459377e-06   0.999972   \n",
       "2   0.999329   0.000004   0.000099   0.999991  8.449949e-07   0.999958   \n",
       "3   0.586667   0.418045   0.859593   0.699928  1.341764e-01   0.030996   \n",
       "4   0.277097   0.002486   0.979284   0.819130  9.697222e-01   0.008256   \n",
       "\n",
       "      attrib_82  attrib_83     attrib_84  attrib_85  \n",
       "0  9.021670e-10   0.991577  4.473517e-06   0.916900  \n",
       "1  5.039305e-14   0.999979  5.428850e-10   0.000077  \n",
       "2  2.636226e-16   0.999995  5.494431e-07   0.919105  \n",
       "3  4.071902e-04   0.802190  1.365234e-02   0.282143  \n",
       "4  3.249107e-09   0.986364  1.381546e-05   0.865403  \n",
       "\n",
       "[5 rows x 86 columns]"
      ]
     },
     "execution_count": 2,
     "metadata": {},
     "output_type": "execute_result"
    }
   ],
   "source": [
    "sam=pd.read_csv('sub-xception.csv')\n",
    "sam.head()"
   ]
  },
  {
   "cell_type": "code",
   "execution_count": 14,
   "metadata": {
    "ExecuteTime": {
     "end_time": "2018-04-23T17:21:32.970440Z",
     "start_time": "2018-04-23T17:21:32.574216Z"
    },
    "collapsed": true,
    "deletable": true,
    "editable": true
   },
   "outputs": [],
   "source": [
    "temp=sam.copy()\n",
    "for i in sam.iloc[:,1:]:\n",
    "    temp[i]=sam[i].apply(lambda x: 1 if x>0.00005 else 0)\n",
    "        "
   ]
  },
  {
   "cell_type": "code",
   "execution_count": 15,
   "metadata": {
    "ExecuteTime": {
     "end_time": "2018-04-23T17:21:33.380578Z",
     "start_time": "2018-04-23T17:21:33.321444Z"
    },
    "collapsed": false,
    "deletable": true,
    "editable": true
   },
   "outputs": [
    {
     "data": {
      "text/html": [
       "<div>\n",
       "<table border=\"1\" class=\"dataframe\">\n",
       "  <thead>\n",
       "    <tr style=\"text-align: right;\">\n",
       "      <th></th>\n",
       "      <th>Image_name</th>\n",
       "      <th>attrib_01</th>\n",
       "      <th>attrib_02</th>\n",
       "      <th>attrib_03</th>\n",
       "      <th>attrib_04</th>\n",
       "      <th>attrib_05</th>\n",
       "      <th>attrib_06</th>\n",
       "      <th>attrib_07</th>\n",
       "      <th>attrib_08</th>\n",
       "      <th>attrib_09</th>\n",
       "      <th>...</th>\n",
       "      <th>attrib_76</th>\n",
       "      <th>attrib_77</th>\n",
       "      <th>attrib_78</th>\n",
       "      <th>attrib_79</th>\n",
       "      <th>attrib_80</th>\n",
       "      <th>attrib_81</th>\n",
       "      <th>attrib_82</th>\n",
       "      <th>attrib_83</th>\n",
       "      <th>attrib_84</th>\n",
       "      <th>attrib_85</th>\n",
       "    </tr>\n",
       "  </thead>\n",
       "  <tbody>\n",
       "    <tr>\n",
       "      <th>0</th>\n",
       "      <td>Image-1.jpg</td>\n",
       "      <td>1</td>\n",
       "      <td>0</td>\n",
       "      <td>0</td>\n",
       "      <td>1</td>\n",
       "      <td>1</td>\n",
       "      <td>1</td>\n",
       "      <td>1</td>\n",
       "      <td>1</td>\n",
       "      <td>1</td>\n",
       "      <td>...</td>\n",
       "      <td>1</td>\n",
       "      <td>1</td>\n",
       "      <td>1</td>\n",
       "      <td>1</td>\n",
       "      <td>1</td>\n",
       "      <td>1</td>\n",
       "      <td>0</td>\n",
       "      <td>1</td>\n",
       "      <td>0</td>\n",
       "      <td>1</td>\n",
       "    </tr>\n",
       "    <tr>\n",
       "      <th>1</th>\n",
       "      <td>Image-2.jpg</td>\n",
       "      <td>1</td>\n",
       "      <td>0</td>\n",
       "      <td>1</td>\n",
       "      <td>1</td>\n",
       "      <td>0</td>\n",
       "      <td>0</td>\n",
       "      <td>0</td>\n",
       "      <td>0</td>\n",
       "      <td>1</td>\n",
       "      <td>...</td>\n",
       "      <td>1</td>\n",
       "      <td>1</td>\n",
       "      <td>1</td>\n",
       "      <td>0</td>\n",
       "      <td>0</td>\n",
       "      <td>1</td>\n",
       "      <td>0</td>\n",
       "      <td>1</td>\n",
       "      <td>0</td>\n",
       "      <td>1</td>\n",
       "    </tr>\n",
       "    <tr>\n",
       "      <th>2</th>\n",
       "      <td>Image-3.jpg</td>\n",
       "      <td>1</td>\n",
       "      <td>0</td>\n",
       "      <td>0</td>\n",
       "      <td>1</td>\n",
       "      <td>0</td>\n",
       "      <td>1</td>\n",
       "      <td>0</td>\n",
       "      <td>1</td>\n",
       "      <td>1</td>\n",
       "      <td>...</td>\n",
       "      <td>1</td>\n",
       "      <td>0</td>\n",
       "      <td>1</td>\n",
       "      <td>1</td>\n",
       "      <td>0</td>\n",
       "      <td>1</td>\n",
       "      <td>0</td>\n",
       "      <td>1</td>\n",
       "      <td>0</td>\n",
       "      <td>1</td>\n",
       "    </tr>\n",
       "    <tr>\n",
       "      <th>3</th>\n",
       "      <td>Image-4.jpg</td>\n",
       "      <td>1</td>\n",
       "      <td>1</td>\n",
       "      <td>1</td>\n",
       "      <td>1</td>\n",
       "      <td>1</td>\n",
       "      <td>1</td>\n",
       "      <td>1</td>\n",
       "      <td>1</td>\n",
       "      <td>1</td>\n",
       "      <td>...</td>\n",
       "      <td>1</td>\n",
       "      <td>1</td>\n",
       "      <td>1</td>\n",
       "      <td>1</td>\n",
       "      <td>1</td>\n",
       "      <td>1</td>\n",
       "      <td>1</td>\n",
       "      <td>1</td>\n",
       "      <td>1</td>\n",
       "      <td>1</td>\n",
       "    </tr>\n",
       "    <tr>\n",
       "      <th>4</th>\n",
       "      <td>Image-5.jpg</td>\n",
       "      <td>1</td>\n",
       "      <td>0</td>\n",
       "      <td>0</td>\n",
       "      <td>1</td>\n",
       "      <td>1</td>\n",
       "      <td>1</td>\n",
       "      <td>1</td>\n",
       "      <td>1</td>\n",
       "      <td>1</td>\n",
       "      <td>...</td>\n",
       "      <td>1</td>\n",
       "      <td>1</td>\n",
       "      <td>1</td>\n",
       "      <td>1</td>\n",
       "      <td>1</td>\n",
       "      <td>1</td>\n",
       "      <td>0</td>\n",
       "      <td>1</td>\n",
       "      <td>0</td>\n",
       "      <td>1</td>\n",
       "    </tr>\n",
       "  </tbody>\n",
       "</table>\n",
       "<p>5 rows × 86 columns</p>\n",
       "</div>"
      ],
      "text/plain": [
       "    Image_name  attrib_01  attrib_02  attrib_03  attrib_04  attrib_05  \\\n",
       "0  Image-1.jpg          1          0          0          1          1   \n",
       "1  Image-2.jpg          1          0          1          1          0   \n",
       "2  Image-3.jpg          1          0          0          1          0   \n",
       "3  Image-4.jpg          1          1          1          1          1   \n",
       "4  Image-5.jpg          1          0          0          1          1   \n",
       "\n",
       "   attrib_06  attrib_07  attrib_08  attrib_09    ...      attrib_76  \\\n",
       "0          1          1          1          1    ...              1   \n",
       "1          0          0          0          1    ...              1   \n",
       "2          1          0          1          1    ...              1   \n",
       "3          1          1          1          1    ...              1   \n",
       "4          1          1          1          1    ...              1   \n",
       "\n",
       "   attrib_77  attrib_78  attrib_79  attrib_80  attrib_81  attrib_82  \\\n",
       "0          1          1          1          1          1          0   \n",
       "1          1          1          0          0          1          0   \n",
       "2          0          1          1          0          1          0   \n",
       "3          1          1          1          1          1          1   \n",
       "4          1          1          1          1          1          0   \n",
       "\n",
       "   attrib_83  attrib_84  attrib_85  \n",
       "0          1          0          1  \n",
       "1          1          0          1  \n",
       "2          1          0          1  \n",
       "3          1          1          1  \n",
       "4          1          0          1  \n",
       "\n",
       "[5 rows x 86 columns]"
      ]
     },
     "execution_count": 15,
     "metadata": {},
     "output_type": "execute_result"
    }
   ],
   "source": [
    "temp.head()"
   ]
  },
  {
   "cell_type": "code",
   "execution_count": 16,
   "metadata": {
    "ExecuteTime": {
     "end_time": "2018-04-23T17:21:35.330486Z",
     "start_time": "2018-04-23T17:21:34.855616Z"
    },
    "collapsed": false,
    "deletable": true,
    "editable": true
   },
   "outputs": [
    {
     "data": {
      "text/plain": [
       "(5400, 86)"
      ]
     },
     "execution_count": 16,
     "metadata": {},
     "output_type": "execute_result"
    }
   ],
   "source": [
    "\n",
    "temp.to_csv('sub-xception-1.csv',index=False)\n",
    "temp.shape"
   ]
  }
 ],
 "metadata": {
  "anaconda-cloud": {},
  "kernelspec": {
   "display_name": "Python [default]",
   "language": "python",
   "name": "python3"
  },
  "language_info": {
   "codemirror_mode": {
    "name": "ipython",
    "version": 3
   },
   "file_extension": ".py",
   "mimetype": "text/x-python",
   "name": "python",
   "nbconvert_exporter": "python",
   "pygments_lexer": "ipython3",
   "version": "3.5.3"
  }
 },
 "nbformat": 4,
 "nbformat_minor": 2
}
